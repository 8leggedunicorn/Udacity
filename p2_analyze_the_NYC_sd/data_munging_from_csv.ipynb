{
 "cells": [
  {
   "cell_type": "code",
   "execution_count": 27,
   "metadata": {
    "collapsed": false
   },
   "outputs": [],
   "source": [
    "import pandas as pd\n",
    "import numpy as np\n",
    "\n",
    "filename = 'data/updated_turnstile_110507.txt'\n",
    "Names = ['C/A','UNIT','SCP','DATEn','TIMEn','DESCn','ENTRIESn','EXITSn']\n",
    "# Force dtypes of the sort found on the Udacity version of Pandas\n",
    "DType = {\n",
    "    'C/A': object,\n",
    "    'UNIT' : object,\n",
    "    'SCP' : object,\n",
    "    'DATEn' : object,\n",
    "    'TIMEn' : object,\n",
    "    'DESCn' : object,\n",
    "    'ENTRIESn' : object,\n",
    "    'EXITSn' : object\n",
    "}\n",
    "#df= pandas.read_csv(filename,header=None, parse_dates = True, keep_date_col = True, names=Names, dtype=DType)\n",
    "df= pd.read_csv(filename,header=None, parse_dates = True, keep_date_col = True, names=Names)\n",
    "df = df[df['DESCn'] == 'REGULAR']\n",
    "df['DATEn'] = pd.to_datetime(df['DATEn'], format='%m-%d-%y') \n",
    "# procedure to convert dtype object to datetime post import\n",
    "df.TIMEn = pd.to_datetime(df.TIMEn, format = '%H:%M:%S')\n",
    "df.TIMEn = df.TIMEn.values.astype('datetime64[h]')\n",
    "\n",
    "df['TIMEn'] = df['TIMEn'].map(lambda x: str(x.hour))\n",
    "df['DATEn'] = df['DATEn'].map(lambda x: str(x.year) + '-' + str(x.month) + '-' + str(x.day))"
   ]
  },
  {
   "cell_type": "code",
   "execution_count": 28,
   "metadata": {
    "collapsed": false
   },
   "outputs": [
    {
     "data": {
      "text/html": [
       "<div>\n",
       "<table border=\"1\" class=\"dataframe\">\n",
       "  <thead>\n",
       "    <tr style=\"text-align: right;\">\n",
       "      <th></th>\n",
       "      <th>C/A</th>\n",
       "      <th>UNIT</th>\n",
       "      <th>SCP</th>\n",
       "      <th>DATEn</th>\n",
       "      <th>TIMEn</th>\n",
       "      <th>DESCn</th>\n",
       "      <th>ENTRIESn</th>\n",
       "      <th>EXITSn</th>\n",
       "    </tr>\n",
       "  </thead>\n",
       "  <tbody>\n",
       "    <tr>\n",
       "      <th>0</th>\n",
       "      <td>A002</td>\n",
       "      <td>R051</td>\n",
       "      <td>02-00-00</td>\n",
       "      <td>2011-4-30</td>\n",
       "      <td>0</td>\n",
       "      <td>REGULAR</td>\n",
       "      <td>3143506</td>\n",
       "      <td>1087907</td>\n",
       "    </tr>\n",
       "    <tr>\n",
       "      <th>1</th>\n",
       "      <td>A002</td>\n",
       "      <td>R051</td>\n",
       "      <td>02-00-00</td>\n",
       "      <td>2011-4-30</td>\n",
       "      <td>4</td>\n",
       "      <td>REGULAR</td>\n",
       "      <td>3143547</td>\n",
       "      <td>1087915</td>\n",
       "    </tr>\n",
       "    <tr>\n",
       "      <th>2</th>\n",
       "      <td>A002</td>\n",
       "      <td>R051</td>\n",
       "      <td>02-00-00</td>\n",
       "      <td>2011-4-30</td>\n",
       "      <td>8</td>\n",
       "      <td>REGULAR</td>\n",
       "      <td>3143563</td>\n",
       "      <td>1087935</td>\n",
       "    </tr>\n",
       "    <tr>\n",
       "      <th>3</th>\n",
       "      <td>A002</td>\n",
       "      <td>R051</td>\n",
       "      <td>02-00-00</td>\n",
       "      <td>2011-4-30</td>\n",
       "      <td>12</td>\n",
       "      <td>REGULAR</td>\n",
       "      <td>3143646</td>\n",
       "      <td>1088024</td>\n",
       "    </tr>\n",
       "    <tr>\n",
       "      <th>4</th>\n",
       "      <td>A002</td>\n",
       "      <td>R051</td>\n",
       "      <td>02-00-00</td>\n",
       "      <td>2011-4-30</td>\n",
       "      <td>16</td>\n",
       "      <td>REGULAR</td>\n",
       "      <td>3143865</td>\n",
       "      <td>1088083</td>\n",
       "    </tr>\n",
       "  </tbody>\n",
       "</table>\n",
       "</div>"
      ],
      "text/plain": [
       "    C/A  UNIT       SCP      DATEn TIMEn    DESCn  ENTRIESn   EXITSn\n",
       "0  A002  R051  02-00-00  2011-4-30     0  REGULAR   3143506  1087907\n",
       "1  A002  R051  02-00-00  2011-4-30     4  REGULAR   3143547  1087915\n",
       "2  A002  R051  02-00-00  2011-4-30     8  REGULAR   3143563  1087935\n",
       "3  A002  R051  02-00-00  2011-4-30    12  REGULAR   3143646  1088024\n",
       "4  A002  R051  02-00-00  2011-4-30    16  REGULAR   3143865  1088083"
      ]
     },
     "execution_count": 28,
     "metadata": {},
     "output_type": "execute_result"
    }
   ],
   "source": [
    "df.head(n=5)"
   ]
  },
  {
   "cell_type": "code",
   "execution_count": 37,
   "metadata": {
    "collapsed": false,
    "scrolled": true
   },
   "outputs": [
    {
     "data": {
      "text/plain": [
       "'16'"
      ]
     },
     "execution_count": 37,
     "metadata": {},
     "output_type": "execute_result"
    }
   ],
   "source": [
    "import datetime as dt\n",
    "date_string = '2011-04-30 16:00:00'\n",
    "\n",
    "date_string = dt.datetime.strptime(date_string, '%m-%d-%Y')\n",
    "datetime.datetime.strftime(date_string, '%Y-%m-%d')"
   ]
  },
  {
   "cell_type": "markdown",
   "metadata": {},
   "source": [
    "```python\n",
    "df.ENTRIESn = df.ENTRIESn.str.replace('^0*','')\n",
    "df.EXITSn = df.EXITSn.str.replace('^0*','')\n",
    "df.ENTRIESn = df.ENTRIESn.str.replace(' *$','')\n",
    "df.EXITSn = df.EXITSn.str.replace(' *$','')\n",
    "df.ENTRIESn = df.ENTRIESn.str.replace('^ *','')\n",
    "df.EXITSn = df.EXITSn.str.replace('^ *','')\n",
    "#Finally add '0' to all elements of these Series that are now empty,\n",
    "df.ENTRIESn = df.ENTRIESn.str.replace('^$','0')\n",
    "df.EXITSn = df.EXITSn.str.replace('^$','0')\n",
    "print(df.dtypes)\n",
    "df.to_csv('./test_df.csv')\n",
    "```"
   ]
  },
  {
   "cell_type": "code",
   "execution_count": null,
   "metadata": {
    "collapsed": false
   },
   "outputs": [],
   "source": [
    "df.head(n=5)"
   ]
  },
  {
   "cell_type": "code",
   "execution_count": null,
   "metadata": {
    "collapsed": false
   },
   "outputs": [],
   "source": [
    "#df.ENTRIESn_hourly = \n",
    "df.Delta = df.ENTRIESn - df.ENTRIESn.shift(1)"
   ]
  },
  {
   "cell_type": "code",
   "execution_count": null,
   "metadata": {
    "collapsed": false
   },
   "outputs": [],
   "source": [
    "df.head(n=5)"
   ]
  },
  {
   "cell_type": "code",
   "execution_count": null,
   "metadata": {
    "collapsed": false
   },
   "outputs": [],
   "source": [
    "df['Delta'] = df.Delta.fillna(1)"
   ]
  },
  {
   "cell_type": "code",
   "execution_count": null,
   "metadata": {
    "collapsed": false
   },
   "outputs": [],
   "source": [
    "df.head(n=5)"
   ]
  },
  {
   "cell_type": "code",
   "execution_count": null,
   "metadata": {
    "collapsed": true
   },
   "outputs": [],
   "source": [
    "df.Delta = df.Delta.cumsum()"
   ]
  },
  {
   "cell_type": "code",
   "execution_count": null,
   "metadata": {
    "collapsed": false
   },
   "outputs": [],
   "source": [
    "df.head(n=5)"
   ]
  },
  {
   "cell_type": "code",
   "execution_count": 9,
   "metadata": {
    "collapsed": false
   },
   "outputs": [
    {
     "data": {
      "text/plain": [
       "Timestamp('2015-11-13 22:37:09.886693')"
      ]
     },
     "execution_count": 9,
     "metadata": {},
     "output_type": "execute_result"
    }
   ],
   "source": [
    "t = pd.tslib.Timestamp.now()\n",
    "t"
   ]
  },
  {
   "cell_type": "code",
   "execution_count": 12,
   "metadata": {
    "collapsed": false
   },
   "outputs": [
    {
     "data": {
      "text/plain": [
       "4"
      ]
     },
     "execution_count": 12,
     "metadata": {},
     "output_type": "execute_result"
    }
   ],
   "source": [
    "df.TIMEn[1].hour"
   ]
  },
  {
   "cell_type": "code",
   "execution_count": 30,
   "metadata": {
    "collapsed": false
   },
   "outputs": [],
   "source": [
    "#df['TIMEn'] = df['TIMEn'].map(lambda x: x.hour)"
   ]
  },
  {
   "cell_type": "code",
   "execution_count": 15,
   "metadata": {
    "collapsed": false
   },
   "outputs": [
    {
     "data": {
      "text/html": [
       "<div>\n",
       "<table border=\"1\" class=\"dataframe\">\n",
       "  <thead>\n",
       "    <tr style=\"text-align: right;\">\n",
       "      <th></th>\n",
       "      <th>C/A</th>\n",
       "      <th>UNIT</th>\n",
       "      <th>SCP</th>\n",
       "      <th>DATEn</th>\n",
       "      <th>TIMEn</th>\n",
       "      <th>DESCn</th>\n",
       "      <th>ENTRIESn</th>\n",
       "      <th>EXITSn</th>\n",
       "    </tr>\n",
       "  </thead>\n",
       "  <tbody>\n",
       "    <tr>\n",
       "      <th>0</th>\n",
       "      <td>A002</td>\n",
       "      <td>R051</td>\n",
       "      <td>02-00-00</td>\n",
       "      <td>2011-04-30</td>\n",
       "      <td>0</td>\n",
       "      <td>REGULAR</td>\n",
       "      <td>3143506</td>\n",
       "      <td>1087907</td>\n",
       "    </tr>\n",
       "    <tr>\n",
       "      <th>1</th>\n",
       "      <td>A002</td>\n",
       "      <td>R051</td>\n",
       "      <td>02-00-00</td>\n",
       "      <td>2011-04-30</td>\n",
       "      <td>4</td>\n",
       "      <td>REGULAR</td>\n",
       "      <td>3143547</td>\n",
       "      <td>1087915</td>\n",
       "    </tr>\n",
       "    <tr>\n",
       "      <th>2</th>\n",
       "      <td>A002</td>\n",
       "      <td>R051</td>\n",
       "      <td>02-00-00</td>\n",
       "      <td>2011-04-30</td>\n",
       "      <td>8</td>\n",
       "      <td>REGULAR</td>\n",
       "      <td>3143563</td>\n",
       "      <td>1087935</td>\n",
       "    </tr>\n",
       "    <tr>\n",
       "      <th>3</th>\n",
       "      <td>A002</td>\n",
       "      <td>R051</td>\n",
       "      <td>02-00-00</td>\n",
       "      <td>2011-04-30</td>\n",
       "      <td>12</td>\n",
       "      <td>REGULAR</td>\n",
       "      <td>3143646</td>\n",
       "      <td>1088024</td>\n",
       "    </tr>\n",
       "    <tr>\n",
       "      <th>4</th>\n",
       "      <td>A002</td>\n",
       "      <td>R051</td>\n",
       "      <td>02-00-00</td>\n",
       "      <td>2011-04-30</td>\n",
       "      <td>16</td>\n",
       "      <td>REGULAR</td>\n",
       "      <td>3143865</td>\n",
       "      <td>1088083</td>\n",
       "    </tr>\n",
       "  </tbody>\n",
       "</table>\n",
       "</div>"
      ],
      "text/plain": [
       "    C/A  UNIT       SCP      DATEn  TIMEn    DESCn  ENTRIESn   EXITSn\n",
       "0  A002  R051  02-00-00 2011-04-30      0  REGULAR   3143506  1087907\n",
       "1  A002  R051  02-00-00 2011-04-30      4  REGULAR   3143547  1087915\n",
       "2  A002  R051  02-00-00 2011-04-30      8  REGULAR   3143563  1087935\n",
       "3  A002  R051  02-00-00 2011-04-30     12  REGULAR   3143646  1088024\n",
       "4  A002  R051  02-00-00 2011-04-30     16  REGULAR   3143865  1088083"
      ]
     },
     "execution_count": 15,
     "metadata": {},
     "output_type": "execute_result"
    }
   ],
   "source": [
    "df.head(n=5)"
   ]
  },
  {
   "cell_type": "code",
   "execution_count": null,
   "metadata": {
    "collapsed": true
   },
   "outputs": [],
   "source": []
  }
 ],
 "metadata": {
  "kernelspec": {
   "display_name": "Python 3",
   "language": "python",
   "name": "python3"
  },
  "language_info": {
   "codemirror_mode": {
    "name": "ipython",
    "version": 3
   },
   "file_extension": ".py",
   "mimetype": "text/x-python",
   "name": "python",
   "nbconvert_exporter": "python",
   "pygments_lexer": "ipython3",
   "version": "3.4.3+"
  }
 },
 "nbformat": 4,
 "nbformat_minor": 0
}
