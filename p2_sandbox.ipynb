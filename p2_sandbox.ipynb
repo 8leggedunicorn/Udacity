{
 "cells": [
  {
   "cell_type": "code",
   "execution_count": null,
   "metadata": {
    "collapsed": true
   },
   "outputs": [],
   "source": []
  },
  {
   "cell_type": "code",
   "execution_count": null,
   "metadata": {
    "collapsed": false
   },
   "outputs": [],
   "source": [
    "from pandas import DataFrame, Series\n",
    "import numpy\n",
    "countries = ['Russian Fed.', 'Norway', 'Canada', 'United States',\n",
    "                 'Netherlands', 'Germany', 'Switzerland', 'Belarus',\n",
    "                 'Austria', 'France', 'Poland', 'China', 'Korea', \n",
    "                 'Sweden', 'Czech Republic', 'Slovenia', 'Japan',\n",
    "     \n",
    "             'Finland', 'Great Britain', 'Ukraine', 'Slovakia',\n",
    "                 'Italy', 'Latvia', 'Australia', 'Croatia', 'Kazakhstan']\n",
    "\n",
    "gold = [13, 11, 10, 9, 8, 8, 6, 5, 4, 4, 4, 3, 3, 2, 2, 2, 1, 1, 1, 1, 1, 0, 0, 0, 0, 0]\n",
    "silver = [11, 5, 10, 7, 7, 6, 3, 0, 8, 4, 1, 4, 3, 7, 4, 2, 4, 3, 1, 0, 0, 2, 2, 2, 1, 0]\n",
    "bronze = [9, 10, 5, 12, 9, 5, 2, 1, 5, 7, 1, 2, 2, 6, 2, 4, 3, 1, 2, 1, 0, 6, 2, 1, 0, 1]\n",
    "olympic_medal_counts_df = DataFrame({'country_name' : Series(countries), \n",
    "                                     'gold' : Series(gold), \n",
    "                                     'silver' : Series(silver),\n",
    "                                     'bronze' : Series(bronze)})\n",
    "numpy.array([gold,silver,bronze]).T\n",
    "numpy.dot(numpy.array([gold,silver,bronze]).T, [4,2,1])\n",
    "df = olympic_medal_counts_df\n",
    "df[ df['gold'] >= 1 ]['bronze'].mean()\n",
    "df.head()\n",
    "df[ ( df['gold'] >= 1 ) | ( df['silver'] >= 1 ) | ( df['silver'] >= 1 ) ].mean()\n",
    "df[ df['gold'] + df['silver'] + df['silver'] >= 1 ].mean()\n",
    "medals = df[ df['gold'] + df['silver'] + df['silver'] >= 1 ][['gold','silver','bronze']].apply(numpy.sum, axis=0)\n",
    "medals[ df.dtypes == int ]/df.count()\n",
    "df.select_dtypes(include=[numpy.int]).mean()\n",
    "points = numpy.dot(df[['gold','silver', 'bronze']],[4,2,1])\n",
    "numpy.array([gold,silver,bronze]).T\n",
    "points = numpy.dot(numpy.array([gold,silver,bronze]).T, [4,2,1])\n",
    "numpy.array([gold,silver,bronze]).transpose()\n",
    "olympic_points_df = DataFrame({'country_name' : Series(countries),\n",
    "                              'points' : Series(points) })"
   ]
  },
  {
   "cell_type": "code",
   "execution_count": null,
   "metadata": {
    "collapsed": false
   },
   "outputs": [],
   "source": [
    "import pandas as pd\n",
    "path_to_csv = \"./p2_problem_sets_234/p2_ps2/Master.csv\"\n",
    "path_to_new_csv = \"./p2_problem_sets_234/p2_ps2/FullMaster.csv\"\n",
    "df = pd.read_csv(path_to_csv)\n",
    "df['nameFull'] = df['nameFirst'] + \" \" + df['nameLast']\n",
    "df.to_csv(path_to_new_csv)"
   ]
  },
  {
   "cell_type": "code",
   "execution_count": null,
   "metadata": {
    "collapsed": false
   },
   "outputs": [],
   "source": [
    "passenger = pd.read_csv(\"kaggle-titanic/titanic_data.csv\")"
   ]
  },
  {
   "cell_type": "code",
   "execution_count": null,
   "metadata": {
    "collapsed": false
   },
   "outputs": [],
   "source": [
    "import json\n",
    "import requests\n",
    "\n",
    "baseurl = 'http://ws.audioscrobbler.com/2.0/'\n",
    "method = 'method=geo.getTopArtists'\n",
    "api_key = '57ee3318536b23ee81d6b27e36997cde'\n",
    "api_key = 'api_key=' + api_key\n",
    "country = 'country=spain'\n",
    "url = baseurl + '?' + method + '&' + country + '&' + api_key + '&format=json'\n",
    "\n",
    "def api_get_request(url):\n",
    "    data = requests.get(url)\n",
    "    data = json.loads(data.text)\n",
    "    return data['topartists']['artist'][0]['name']"
   ]
  },
  {
   "cell_type": "code",
   "execution_count": null,
   "metadata": {
    "collapsed": false
   },
   "outputs": [],
   "source": [
    "data = api_get_request(url)\n",
    "print(data)"
   ]
  },
  {
   "cell_type": "code",
   "execution_count": null,
   "metadata": {
    "collapsed": false
   },
   "outputs": [],
   "source": [
    "import pandas\n",
    "import pandasql\n",
    "\n",
    "filename = './p2_problem_sets_234/p2/weather_underground.csv'\n",
    "def num_rainy_days(filename):\n",
    "    '''\n",
    "    This function should run a SQL query on a dataframe of\n",
    "    weather data.  The SQL query should return one column and\n",
    "    one row - a count of the number of days in the dataframe where\n",
    "    the rain column is equal to 1 (i.e., the number of days it\n",
    "    rained).  The dataframe will be titled 'weather_data'. You'll\n",
    "    need to provide the SQL query.  You might find SQL's count function\n",
    "    useful for this exercise.  You can read more about it here:\n",
    "    \n",
    "    https://dev.mysql.com/doc/refman/5.1/en/counting-rows.html\n",
    "    \n",
    "    You might also find that interpreting numbers as integers or floats may not\n",
    "    work initially.  In order to get around this issue, it may be useful to cast\n",
    "    these numbers as integers.  This can be done by writing cast(column as integer).\n",
    "    So for example, if we wanted to cast the maxtempi column as an integer, we would actually\n",
    "    write something like where cast(maxtempi as integer) = 76, as opposed to simply \n",
    "    where maxtempi = 76.\n",
    "    \n",
    "    You can see the weather data that we are passing in below:\n",
    "    https://www.dropbox.com/s/7sf0yqc9ykpq3w8/weather_underground.csv\n",
    "    '''\n",
    "    weather_data = pandas.read_csv(filename)\n",
    "    #SELECT fog, MAX(maxtempi) FROM weather_data WHERE fog == 1 order by fog, MAX(maxtempi)\n",
    "    #SELECT fog, MAX(maxtempi) FROM weather_data GROUP BY fog\n",
    "    #SELECT DAYNAME(date) from weather_data LIMIT 10\n",
    "    \n",
    "    weather_data['date'] = pd.to_datetime(weather_data['date']);\n",
    "    \n",
    "    q = \"\"\"\n",
    "    SELECT AVG(CAST(mintempi AS INTEGER)) FROM weather_data WHERE\n",
    "        CAST(rain AS INTEGER) == 1 and\n",
    "        CAST(mintempi AS INTEGER) > 55;\n",
    "    \"\"\"\n",
    "    \n",
    "    #Execute your SQL command against the pandas frame\n",
    "    rainy_days = pandasql.sqldf(q.lower(), locals())\n",
    "    return rainy_days\n",
    "print(num_rainy_days(filename))"
   ]
  },
  {
   "cell_type": "code",
   "execution_count": null,
   "metadata": {
    "collapsed": false
   },
   "outputs": [],
   "source": [
    "df = pandas.read_csv(filename);\n",
    "df_col_ser = df.columns.to_series();\n",
    "df_col_ser[df_col_ser.str.startswith('max')];\n",
    "print([ print(column) for column in list(df.columns) if column.rfind('rain') != -1 ])"
   ]
  },
  {
   "cell_type": "code",
   "execution_count": null,
   "metadata": {
    "collapsed": true
   },
   "outputs": [],
   "source": [
    "file = './data/turnstile_110507.txt'\n",
    "filenames = [file]"
   ]
  },
  {
   "cell_type": "code",
   "execution_count": null,
   "metadata": {
    "collapsed": false
   },
   "outputs": [],
   "source": [
    "import csv\n",
    "file = './data/turnstile_110507.txt'\n",
    "f_in = open(file,'r')\n",
    "sfile = file.split(sep='/') # sfile = split file\n",
    "sfile[-1] = \"updated_\" + sfile[-1]\n",
    "output = '/'.join(sfile)\n",
    "f_out = open(output, 'w')"
   ]
  },
  {
   "cell_type": "code",
   "execution_count": null,
   "metadata": {
    "collapsed": false
   },
   "outputs": [],
   "source": [
    "reader_in = csv.reader(f_in, delimiter=',')\n",
    "writer_out = csv.writer(f_out,delimiter=',')"
   ]
  },
  {
   "cell_type": "code",
   "execution_count": null,
   "metadata": {
    "collapsed": false
   },
   "outputs": [],
   "source": [
    "for i in range(1,9):\n",
    "    line = 'line_'+str(i) + '= [line[0:2], line['\n",
    "    nums = [5*(i-1)+3, 5*(i-1)+7]\n",
    "    line = '    line_'+str(i) + ' = [line[0:2], line[' + str(nums[0]) +':' + str(nums[1]) + ']]'\n",
    "    print(line)\n",
    "for i in range(1,9): \n",
    "    writer = '    writer_out.writerow(line_' + str(i) + ')'\n",
    "    print(writer)"
   ]
  },
  {
   "cell_type": "code",
   "execution_count": null,
   "metadata": {
    "collapsed": false
   },
   "outputs": [],
   "source": [
    "# not skipping first line, as it doesn't contain headers\n",
    "# reader_in.__next__();"
   ]
  },
  {
   "cell_type": "code",
   "execution_count": null,
   "metadata": {
    "collapsed": false
   },
   "outputs": [],
   "source": [
    "import csv\n",
    "file = './data/turnstile_110507.txt'\n",
    "f_in = open(file,'r')\n",
    "\n",
    "sfile = file.split(sep='/') # sfile = split file\n",
    "sfile[-1] = \"updated_\" + sfile[-1]\n",
    "output = '/'.join(sfile)\n",
    "\n",
    "f_out = open(output, 'w')\n",
    "\n",
    "reader_in = csv.reader(f_in, delimiter=',')\n",
    "writer_out = csv.writer(f_out,delimiter=',')\n",
    "for line in reader_in:\n",
    "    i = 1\n",
    "    outline = []\n",
    "    while i * 5 + 2 <= len(line):\n",
    "        outline = line[0:3]+ line[i * 5 - 2:i * 5 + 3]\n",
    "        writer_out.writerow(outline)\n",
    "        i+=1\n",
    "f_in.close()\n",
    "f_out.close()"
   ]
  },
  {
   "cell_type": "code",
   "execution_count": null,
   "metadata": {
    "collapsed": false
   },
   "outputs": [],
   "source": [
    "q = '000660121'\n"
   ]
  },
  {
   "cell_type": "code",
   "execution_count": null,
   "metadata": {
    "collapsed": false
   },
   "outputs": [],
   "source": [
    "import pandas\n",
    "import numpy\n",
    "\n",
    "def filter_by_regular(filename):\n",
    "    '''\n",
    "    This function should read the csv file located at filename into a pandas dataframe,\n",
    "    and filter the dataframe to only rows where the 'DESCn' column has the value 'REGULAR'.\n",
    "    \n",
    "    For example, if the pandas dataframe is as follows:\n",
    "    ,C/A,UNIT,SCP,DATEn,TIMEn,DESCn,ENTRIESn,EXITSn\n",
    "    0,A002,R051,02-00-00,05-01-11,00:00:00,REGULAR,3144312,1088151\n",
    "    1,A002,R051,02-00-00,05-01-11,04:00:00,DOOR,3144335,1088159\n",
    "    2,A002,R051,02-00-00,05-01-11,08:00:00,REGULAR,3144353,1088177\n",
    "    3,A002,R051,02-00-00,05-01-11,12:00:00,DOOR,3144424,1088231\n",
    "    \n",
    "    The dataframe will look like below after filtering to only rows where DESCn column\n",
    "    has the value 'REGULAR':\n",
    "    0,A002,R051,02-00-00,05-01-11,00:00:00,REGULAR,3144312,1088151\n",
    "    2,A002,R051,02-00-00,05-01-11,08:00:00,REGULAR,3144353,1088177\n",
    "    '''\n",
    "    Names = ['C/A','UNIT','SCP','DATEn','TIMEn','DESCn','ENTRIESn','EXITSn']\n",
    "    turnstile_data = pandas.read_csv(filename,header=None, names=Names)\n",
    "    turnstile_data = turnstile_data[turnstile_data['DESCn'] == 'REGULAR']\n",
    "    return turnstile_data"
   ]
  },
  {
   "cell_type": "code",
   "execution_count": null,
   "metadata": {
    "collapsed": false
   },
   "outputs": [],
   "source": [
    "filename = 'data/updated_turnstile_110507.txt'\n",
    "df = filter_by_regular(filename)\n",
    "df.to_csv('./test_df.csv')\n",
    "s = df['ENTRIESn']\n",
    "n = pandas.to_numeric(s)\n",
    "n.fillna(0);"
   ]
  },
  {
   "cell_type": "code",
   "execution_count": null,
   "metadata": {
    "collapsed": false
   },
   "outputs": [],
   "source": []
  },
  {
   "cell_type": "code",
   "execution_count": null,
   "metadata": {
    "collapsed": false
   },
   "outputs": [],
   "source": [
    "import pandas\n",
    "import numpy\n",
    "\n",
    "filename = 'data/updated_turnstile_110507.txt'\n",
    "Names = ['C/A','UNIT','SCP','DATEn','TIMEn','DESCn','ENTRIESn','EXITSn']\n",
    "df= pandas.read_csv(filename,header=None, names=Names)\n",
    "df = df[df['DESCn'] == 'REGULAR']\n",
    "df.isnull().values.sum"
   ]
  },
  {
   "cell_type": "markdown",
   "metadata": {},
   "source": [
    "So there are no NaN values.  This must be something different."
   ]
  },
  {
   "cell_type": "code",
   "execution_count": null,
   "metadata": {
    "collapsed": false
   },
   "outputs": [],
   "source": [
    "df['EXITSn'] = [str(q).lstrip('0') for q in df['EXITSn']]\n",
    "df['ENTRIESn'] = [str(q).lstrip('0') for q in df['ENTRIESn']]"
   ]
  },
  {
   "cell_type": "code",
   "execution_count": null,
   "metadata": {
    "collapsed": false
   },
   "outputs": [],
   "source": [
    "df.dtypes"
   ]
  },
  {
   "cell_type": "code",
   "execution_count": null,
   "metadata": {
    "collapsed": true
   },
   "outputs": [],
   "source": []
  }
 ],
 "metadata": {
  "kernelspec": {
   "display_name": "Python 3",
   "language": "python",
   "name": "python3"
  },
  "language_info": {
   "codemirror_mode": {
    "name": "ipython",
    "version": 3
   },
   "file_extension": ".py",
   "mimetype": "text/x-python",
   "name": "python",
   "nbconvert_exporter": "python",
   "pygments_lexer": "ipython3",
   "version": "3.4.3+"
  }
 },
 "nbformat": 4,
 "nbformat_minor": 0
}
