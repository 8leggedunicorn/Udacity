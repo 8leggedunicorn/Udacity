{
 "cells": [
  {
   "cell_type": "code",
   "execution_count": null,
   "metadata": {
    "collapsed": false
   },
   "outputs": [],
   "source": [
    "from pandas import DataFrame, Series\n",
    "import numpy\n",
    "countries = ['Russian Fed.', 'Norway', 'Canada', 'United States',\n",
    "                 'Netherlands', 'Germany', 'Switzerland', 'Belarus',\n",
    "                 'Austria', 'France', 'Poland', 'China', 'Korea', \n",
    "                 'Sweden', 'Czech Republic', 'Slovenia', 'Japan',\n",
    "                 'Finland', 'Great Britain', 'Ukraine', 'Slovakia',\n",
    "                 'Italy', 'Latvia', 'Australia', 'Croatia', 'Kazakhstan']\n",
    "\n",
    "gold = [13, 11, 10, 9, 8, 8, 6, 5, 4, 4, 4, 3, 3, 2, 2, 2, 1, 1, 1, 1, 1, 0, 0, 0, 0, 0]\n",
    "silver = [11, 5, 10, 7, 7, 6, 3, 0, 8, 4, 1, 4, 3, 7, 4, 2, 4, 3, 1, 0, 0, 2, 2, 2, 1, 0]\n",
    "bronze = [9, 10, 5, 12, 9, 5, 2, 1, 5, 7, 1, 2, 2, 6, 2, 4, 3, 1, 2, 1, 0, 6, 2, 1, 0, 1]\n",
    "olympic_medal_counts_df = DataFrame({'country_name' : Series(countries), \n",
    "                                     'gold' : Series(gold), \n",
    "                                     'silver' : Series(silver),\n",
    "                                     'bronze' : Series(bronze)})\n",
    "numpy.array([gold,silver,bronze]).T\n",
    "numpy.dot(numpy.array([gold,silver,bronze]).T, [4,2,1])\n",
    "df = olympic_medal_counts_df\n",
    "df[ df['gold'] >= 1 ]['bronze'].mean()\n",
    "df.head()\n",
    "df[ ( df['gold'] >= 1 ) | ( df['silver'] >= 1 ) | ( df['silver'] >= 1 ) ].mean()\n",
    "df[ df['gold'] + df['silver'] + df['silver'] >= 1 ].mean()\n",
    "medals = df[ df['gold'] + df['silver'] + df['silver'] >= 1 ][['gold','silver','bronze']].apply(numpy.sum, axis=0)\n",
    "medals[ df.dtypes == int ]/df.count()\n",
    "df.select_dtypes(include=[numpy.int]).mean()\n",
    "points = numpy.dot(df[['gold','silver', 'bronze']],[4,2,1])\n",
    "numpy.array([gold,silver,bronze]).T\n",
    "points = numpy.dot(numpy.array([gold,silver,bronze]).T, [4,2,1])\n",
    "numpy.array([gold,silver,bronze]).transpose()\n",
    "olympic_points_df = DataFrame({'country_name' : Series(countries),\n",
    "                              'points' : Series(points) })"
   ]
  },
  {
   "cell_type": "code",
   "execution_count": 2,
   "metadata": {
    "collapsed": false
   },
   "outputs": [],
   "source": [
    "import pandas as pd\n",
    "path_to_csv = \"./p2_problem_sets_234/p2_ps2/Master.csv\"\n",
    "path_to_new_csv = \"./p2_problem_sets_234/p2_ps2/FullMaster.csv\"\n",
    "df = pd.read_csv(path_to_csv)\n",
    "df['nameFull'] = df['nameFirst'] + \" \" + df['nameLast']\n",
    "df.to_csv(path_to_new_csv)"
   ]
  },
  {
   "cell_type": "code",
   "execution_count": null,
   "metadata": {
    "collapsed": false
   },
   "outputs": [],
   "source": [
    "passenger = pd.read_csv(\"kaggle-titanic/titanic_data.csv\")"
   ]
  },
  {
   "cell_type": "code",
   "execution_count": null,
   "metadata": {
    "collapsed": false
   },
   "outputs": [],
   "source": [
    "passenger.columns"
   ]
  },
  {
   "cell_type": "code",
   "execution_count": null,
   "metadata": {
    "collapsed": false
   },
   "outputs": [],
   "source": [
    "passenger[passenger['Fare'] > 300].count()"
   ]
  },
  {
   "cell_type": "code",
   "execution_count": null,
   "metadata": {
    "collapsed": true
   },
   "outputs": [],
   "source": [
    "q = 'Rndom tTt'"
   ]
  },
  {
   "cell_type": "code",
   "execution_count": null,
   "metadata": {
    "collapsed": false
   },
   "outputs": [],
   "source": [
    "q.lower()"
   ]
  },
  {
   "cell_type": "code",
   "execution_count": null,
   "metadata": {
    "collapsed": false
   },
   "outputs": [],
   "source": [
    "import json\n",
    "import requests\n",
    "\n",
    "baseurl = 'http://ws.audioscrobbler.com/2.0/'\n",
    "method = 'method=geo.getTopArtists'\n",
    "api_key = '57ee3318536b23ee81d6b27e36997cde'\n",
    "api_key = 'api_key=' + api_key\n",
    "country = 'country=spain'\n",
    "url = baseurl + '?' + method + '&' + country + '&' + api_key + '&format=json'\n",
    "\n",
    "def api_get_request(url):\n",
    "    # In this exercise, you want to call the last.fm API to get a list of the\n",
    "    # top artists in Spain. The grader will supply the URL as an argument to\n",
    "    # the function; you do not need to construct the address or call this\n",
    "    # function in your grader submission.\n",
    "    # \n",
    "    # Once you've done this, return the name of the number 1 top artist in\n",
    "    # Spain. \n",
    "\n",
    "    data = requests.get(url)\n",
    "    data = json.loads(data.text)\n",
    "    return data['topartists']['artist'][0]['name']"
   ]
  },
  {
   "cell_type": "code",
   "execution_count": null,
   "metadata": {
    "collapsed": false
   },
   "outputs": [],
   "source": [
    "data = api_get_request(url)\n",
    "print(data)"
   ]
  },
  {
   "cell_type": "code",
   "execution_count": null,
   "metadata": {
    "collapsed": true
   },
   "outputs": [],
   "source": [
    "df = pd.read_csv(\"./p2_problem_sets_234/p2_ps2/Master.csv\")"
   ]
  },
  {
   "cell_type": "code",
   "execution_count": null,
   "metadata": {
    "collapsed": false
   },
   "outputs": [],
   "source": [
    "df.head;"
   ]
  },
  {
   "cell_type": "code",
   "execution_count": null,
   "metadata": {
    "collapsed": false
   },
   "outputs": [],
   "source": [
    "df =['weight'].mean()"
   ]
  },
  {
   "cell_type": "code",
   "execution_count": null,
   "metadata": {
    "collapsed": false
   },
   "outputs": [],
   "source": [
    "mpg = 40\n",
    "distance = 6000\n",
    "dollar_gallon = 2.30\n",
    "distance / mpg * dollar_gallon"
   ]
  },
  {
   "cell_type": "code",
   "execution_count": 16,
   "metadata": {
    "collapsed": false
   },
   "outputs": [
    {
     "name": "stdout",
     "output_type": "stream",
     "text": [
      "   avg(cast(mintempi as integer))\n",
      "0                           61.25\n"
     ]
    }
   ],
   "source": [
    "import pandas\n",
    "import pandasql\n",
    "\n",
    "filename = './p2_problem_sets_234/p2/weather_underground.csv'\n",
    "def num_rainy_days(filename):\n",
    "    '''\n",
    "    This function should run a SQL query on a dataframe of\n",
    "    weather data.  The SQL query should return one column and\n",
    "    one row - a count of the number of days in the dataframe where\n",
    "    the rain column is equal to 1 (i.e., the number of days it\n",
    "    rained).  The dataframe will be titled 'weather_data'. You'll\n",
    "    need to provide the SQL query.  You might find SQL's count function\n",
    "    useful for this exercise.  You can read more about it here:\n",
    "    \n",
    "    https://dev.mysql.com/doc/refman/5.1/en/counting-rows.html\n",
    "    \n",
    "    You might also find that interpreting numbers as integers or floats may not\n",
    "    work initially.  In order to get around this issue, it may be useful to cast\n",
    "    these numbers as integers.  This can be done by writing cast(column as integer).\n",
    "    So for example, if we wanted to cast the maxtempi column as an integer, we would actually\n",
    "    write something like where cast(maxtempi as integer) = 76, as opposed to simply \n",
    "    where maxtempi = 76.\n",
    "    \n",
    "    You can see the weather data that we are passing in below:\n",
    "    https://www.dropbox.com/s/7sf0yqc9ykpq3w8/weather_underground.csv\n",
    "    '''\n",
    "    weather_data = pandas.read_csv(filename)\n",
    "    #SELECT fog, MAX(maxtempi) FROM weather_data WHERE fog == 1 order by fog, MAX(maxtempi)\n",
    "    #SELECT fog, MAX(maxtempi) FROM weather_data GROUP BY fog\n",
    "    #SELECT DAYNAME(date) from weather_data LIMIT 10\n",
    "    \n",
    "    weather_data['date'] = pd.to_datetime(weather_data['date']);\n",
    "    \n",
    "    q = \"\"\"\n",
    "    SELECT AVG(CAST(mintempi AS INTEGER)) FROM weather_data WHERE\n",
    "        CAST(rain AS INTEGER) == 1 and\n",
    "        CAST(mintempi AS INTEGER) > 55;\n",
    "    \"\"\"\n",
    "    \n",
    "    #Execute your SQL command against the pandas frame\n",
    "    rainy_days = pandasql.sqldf(q.lower(), locals())\n",
    "    return rainy_days\n",
    "print(num_rainy_days(filename))"
   ]
  },
  {
   "cell_type": "code",
   "execution_count": 13,
   "metadata": {
    "collapsed": false
   },
   "outputs": [],
   "source": [
    "df = pandas.read_csv(filename);\n",
    "df_col_ser = df.columns.to_series();\n",
    "df_col_ser[df_col_ser.str.startswith('max')];"
   ]
  },
  {
   "cell_type": "code",
   "execution_count": 14,
   "metadata": {
    "collapsed": false
   },
   "outputs": [
    {
     "name": "stdout",
     "output_type": "stream",
     "text": [
      "rain\n",
      "[None]\n"
     ]
    }
   ],
   "source": [
    "print([ print(column) for column in list(df.columns) if column.rfind('rain') != -1 ])"
   ]
  },
  {
   "cell_type": "code",
   "execution_count": 15,
   "metadata": {
    "collapsed": false
   },
   "outputs": [
    {
     "name": "stdout",
     "output_type": "stream",
     "text": [
      "<bound method Series.head of 0     0\n",
      "1     0\n",
      "2     0\n",
      "3     1\n",
      "4     0\n",
      "5     0\n",
      "6     0\n",
      "7     0\n",
      "8     0\n",
      "9     0\n",
      "10    0\n",
      "11    0\n",
      "12    0\n",
      "13    0\n",
      "14    1\n",
      "15    1\n",
      "16    1\n",
      "17    1\n",
      "18    1\n",
      "19    1\n",
      "20    1\n",
      "21    0\n",
      "22    1\n",
      "23    0\n",
      "24    0\n",
      "25    0\n",
      "26    0\n",
      "27    0\n",
      "28    0\n",
      "29    1\n",
      "Name: rain, dtype: int64>\n"
     ]
    }
   ],
   "source": [
    "print(df['rain'].head)"
   ]
  },
  {
   "cell_type": "markdown",
   "metadata": {},
   "source": [
    "SELECT DAYOFWEEK(date) from weather_data"
   ]
  },
  {
   "cell_type": "code",
   "execution_count": null,
   "metadata": {
    "collapsed": false
   },
   "outputs": [],
   "source": [
    "q = \"\"\"\n",
    "SELECT meantempi from weather_data LIMIT 20;\n",
    "\"\"\"\n",
    "print(pandasql.sqldf(q.lower(), locals()))"
   ]
  },
  {
   "cell_type": "code",
   "execution_count": null,
   "metadata": {
    "collapsed": false
   },
   "outputs": [],
   "source": [
    "weather_data.dtypes"
   ]
  },
  {
   "cell_type": "code",
   "execution_count": null,
   "metadata": {
    "collapsed": false
   },
   "outputs": [],
   "source": [
    "weather_data['date'] = pd.to_datetime(weather_data['date']);\n"
   ]
  },
  {
   "cell_type": "code",
   "execution_count": null,
   "metadata": {
    "collapsed": false
   },
   "outputs": [],
   "source": [
    "[weather_data['date'].dt.dayofweek == 5 or weather_data['date'].dt.dayofweek == 6"
   ]
  },
  {
   "cell_type": "code",
   "execution_count": null,
   "metadata": {
    "collapsed": false
   },
   "outputs": [],
   "source": [
    "pd.Series.dt.dayofweek(weather_data['date'][9])"
   ]
  },
  {
   "cell_type": "code",
   "execution_count": null,
   "metadata": {
    "collapsed": true
   },
   "outputs": [],
   "source": []
  }
 ],
 "metadata": {
  "kernelspec": {
   "display_name": "Python 3",
   "language": "python",
   "name": "python3"
  },
  "language_info": {
   "codemirror_mode": {
    "name": "ipython",
    "version": 3
   },
   "file_extension": ".py",
   "mimetype": "text/x-python",
   "name": "python",
   "nbconvert_exporter": "python",
   "pygments_lexer": "ipython3",
   "version": "3.4.3+"
  }
 },
 "nbformat": 4,
 "nbformat_minor": 0
}
