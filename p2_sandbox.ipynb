{
 "cells": [
  {
   "cell_type": "code",
   "execution_count": 39,
   "metadata": {
    "collapsed": false
   },
   "outputs": [],
   "source": [
    "from pandas import DataFrame, Series\n",
    "import numpy\n",
    "countries = ['Russian Fed.', 'Norway', 'Canada', 'United States',\n",
    "                 'Netherlands', 'Germany', 'Switzerland', 'Belarus',\n",
    "                 'Austria', 'France', 'Poland', 'China', 'Korea', \n",
    "                 'Sweden', 'Czech Republic', 'Slovenia', 'Japan',\n",
    "                 'Finland', 'Great Britain', 'Ukraine', 'Slovakia',\n",
    "                 'Italy', 'Latvia', 'Australia', 'Croatia', 'Kazakhstan']\n",
    "\n",
    "gold = [13, 11, 10, 9, 8, 8, 6, 5, 4, 4, 4, 3, 3, 2, 2, 2, 1, 1, 1, 1, 1, 0, 0, 0, 0, 0]\n",
    "silver = [11, 5, 10, 7, 7, 6, 3, 0, 8, 4, 1, 4, 3, 7, 4, 2, 4, 3, 1, 0, 0, 2, 2, 2, 1, 0]\n",
    "bronze = [9, 10, 5, 12, 9, 5, 2, 1, 5, 7, 1, 2, 2, 6, 2, 4, 3, 1, 2, 1, 0, 6, 2, 1, 0, 1]\n",
    "olympic_medal_counts_df = DataFrame({'country_name' : Series(countries), \n",
    "                                     'gold' : Series(gold), \n",
    "                                     'silver' : Series(silver),\n",
    "                                     'bronze' : Series(bronze)})\n",
    "numpy.array([gold,silver,bronze]).T\n",
    "numpy.dot(numpy.array([gold,silver,bronze]).T, [4,2,1])\n",
    "df = olympic_medal_counts_df\n",
    "df[ df['gold'] >= 1 ]['bronze'].mean()\n",
    "df.head()\n",
    "df[ ( df['gold'] >= 1 ) | ( df['silver'] >= 1 ) | ( df['silver'] >= 1 ) ].mean()\n",
    "df[ df['gold'] + df['silver'] + df['silver'] >= 1 ].mean()\n",
    "medals = df[ df['gold'] + df['silver'] + df['silver'] >= 1 ][['gold','silver','bronze']].apply(numpy.sum, axis=0)\n",
    "medals[ df.dtypes == int ]/df.count()\n",
    "df.select_dtypes(include=[numpy.int]).mean()\n",
    "points = numpy.dot(df[['gold','silver', 'bronze']],[4,2,1])\n",
    "numpy.array([gold,silver,bronze]).T\n",
    "points = numpy.dot(numpy.array([gold,silver,bronze]).T, [4,2,1])\n",
    "numpy.array([gold,silver,bronze]).transpose()\n",
    "olympic_points_df = DataFrame({'country_name' : Series(countries),\n",
    "                              'points' : Series(points) })\n",
    "olympic_points_df.head"
   ]
  }
 ],
 "metadata": {
  "kernelspec": {
   "display_name": "Python 3",
   "language": "python",
   "name": "python3"
  },
  "language_info": {
   "codemirror_mode": {
    "name": "ipython",
    "version": 3
   },
   "file_extension": ".py",
   "mimetype": "text/x-python",
   "name": "python",
   "nbconvert_exporter": "python",
   "pygments_lexer": "ipython3",
   "version": "3.4.3+"
  }
 },
 "nbformat": 4,
 "nbformat_minor": 0
}
