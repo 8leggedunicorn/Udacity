{
 "cells": [
  {
   "cell_type": "code",
   "execution_count": 1,
   "metadata": {
    "collapsed": false
   },
   "outputs": [],
   "source": [
    "import pandas as pd\n",
    "import numpy as np\n",
    "import math\n",
    "%matplotlib inline\n",
    "#import matplotlib as mpl\n",
    "#mpl.use('pgf')\n",
    "import matplotlib\n",
    "matplotlib.style.use('ggplot')\n",
    "\n",
    "import matplotlib.pyplot as plt\n",
    "import scipy.stats as stats\n",
    "\n",
    "data = './data/data/improved-dataset/turnstile_weather_v2.csv'\n",
    "df = pd.read_csv(data)"
   ]
  },
  {
   "cell_type": "code",
   "execution_count": 2,
   "metadata": {
    "collapsed": true
   },
   "outputs": [],
   "source": [
    "def SubPlot(ax,title):\n",
    "    ax.set_xlabel(\"Hourly Ridership\", fontsize = 11)\n",
    "    ax.set_ylabel(\"Frequency\", fontsize = 11)\n",
    "    ax.set_title(title)"
   ]
  },
  {
   "cell_type": "markdown",
   "metadata": {},
   "source": [
    "Create a reasonable cutoff for these two graphs which will be the greater of \n",
    "the two set's 95% cutoff, as both will share the same $x$-axis."
   ]
  },
  {
   "cell_type": "code",
   "execution_count": 13,
   "metadata": {
    "collapsed": false
   },
   "outputs": [],
   "source": [
    "rainy = df[df.rain == 1]['ENTRIESn_hourly']\n",
    "norain = df[df.rain == 0]['ENTRIESn_hourly']\n",
    "rainy_cutoff = rainy.describe(percentiles=[.95])[5]\n",
    "norain_cutoff = norain.describe(percentiles=[.95])[5]\n",
    "cutoff = max(rainy_cutoff, norain_cutoff)\n",
    "\n",
    "# instead of truncating x-axis remove outliers,\n",
    "rainy = rainy[rainy < cutoff].values\n",
    "norain = norain[norain < cutoff].values"
   ]
  },
  {
   "cell_type": "code",
   "execution_count": 4,
   "metadata": {
    "collapsed": false,
    "scrolled": true
   },
   "outputs": [
    {
     "data": {
      "image/png": "[encoded data removed]",
      "text/plain": [
       "<matplotlib.figure.Figure at 0x7f346ba14b38>"
      ]
     },
     "metadata": {},
     "output_type": "display_data"
    }
   ],
   "source": [
    "# Two subplots, unpack the axes array immediately\n",
    "f, (ax1, ax2) = plt.subplots(\n",
    "    1, \n",
    "    2, \n",
    "    sharey=True,\n",
    "    sharex=True,\n",
    "    figsize=(11, 6), \n",
    "    dpi=300, \n",
    "    facecolor='w', \n",
    "    edgecolor='k'\n",
    ")\n",
    "\n",
    "titleR = 'Histogram of Rainy Days'\n",
    "n, bins, patches = ax1.hist(rainy, \n",
    "                            bins = 50, \n",
    "                            normed = 1, \n",
    "                            facecolor='green', \n",
    "                            alpha=0.75\n",
    "                           )\n",
    "\n",
    "titleNR = 'Histogram of Non-rainy Days'\n",
    "n, bins, patches = ax2.hist(norain, \n",
    "                            bins = 50, \n",
    "                            normed = 1, \n",
    "                            facecolor='green', \n",
    "                            alpha=0.75\n",
    "                           )\n",
    "\n",
    "#ax1.set_title('Histogram of Rainy Days')\n",
    "#ax2.set_title('Histogram of non-Rainy Days')\n",
    "\n",
    "# as x,y-axes are shared set only ax1 will set both:\n",
    "ax1.set_ylim([0,0.0013])\n",
    "\n",
    "SubPlot(ax1,titleR) \n",
    "SubPlot(ax2,titleNR)\n",
    "\n",
    "plt.savefig('histogram-rainy-norain.pdf')"
   ]
  },
  {
   "cell_type": "code",
   "execution_count": 5,
   "metadata": {
    "collapsed": false
   },
   "outputs": [
    {
     "name": "stdout",
     "output_type": "stream",
     "text": [
      "7400.6\n"
     ]
    }
   ],
   "source": [
    "print(cutoff)"
   ]
  },
  {
   "cell_type": "markdown",
   "metadata": {},
   "source": [
    "ax1.hist(\n",
    "    x, \n",
    "    alpha=1,\n",
    "    bins = 45,\n",
    "    normed = 1,\n",
    "    label='Histogram of Rainy Days'\n",
    ")"
   ]
  },
  {
   "cell_type": "code",
   "execution_count": null,
   "metadata": {
    "collapsed": false
   },
   "outputs": [],
   "source": [
    "type(df[df.rain == 1].ENTRIESn_hourly)"
   ]
  },
  {
   "cell_type": "code",
   "execution_count": null,
   "metadata": {
    "collapsed": false
   },
   "outputs": [],
   "source": [
    "\n",
    "fig = plt.figure(num=None, \n",
    "                 figsize=(10, 5), \n",
    "                 dpi=300, \n",
    "                 facecolor='w', \n",
    "                 edgecolor='k'\n",
    "                )\n",
    "\n",
    "ax1 = fig.add_subplot(121)\n",
    "titleR = 'Histogram of Rainy Days'\n",
    "plt.tick_params(axis='both', which='major', labelsize=8)\n",
    "plt.xticks( rotation = -90 )\n",
    "histRainy = df[df.rain == 1].ENTRIESn_hourly.plot(kind='hist', \n",
    "                                      alpha=1,\n",
    "                                      bins = 45,\n",
    "                                      normed = 1,\n",
    "                                      label='Histogram of Rainy Days'\n",
    "                                     )\n",
    "\n",
    "ax2 = fig.add_subplot(122)\n",
    "titleNR = 'Histogram of Non-rainy Days'\n",
    "plt.tick_params(axis='both', which='major', labelsize=8)\n",
    "\n",
    "histNoRain = df[df.rain == 0].ENTRIESn_hourly.plot(kind='hist', \n",
    "                                      alpha=0.5,\n",
    "                                      bins = 45,\n",
    "                                      normed = 1,\n",
    "                                      label='Histogram of Non-Rainy Days'\n",
    "                                     )\n",
    "SubPlot(ax1,titleR) \n",
    "SubPlot(ax2,titleNR)\n",
    "    \n",
    "plt.tight_layout()\n",
    "plt.savefig('histogram-rainy-norain.pdf')"
   ]
  },
  {
   "cell_type": "markdown",
   "metadata": {},
   "source": [
    "```python\n",
    "pgf_with_lualatex = {\n",
    "    \"text.usetex\": True,\n",
    "    \"pgf.rcfonts\": False,   # Do not set up fonts from rc parameters.\n",
    "    \"pgf.texsystem\": \"lualatex\",\n",
    "    \"pgf.preamble\": [\n",
    "        r'\\usepackage{verbatim}',\n",
    "        r'\\usepackage{newtxmath}',\n",
    "        r'\\usepackage[T1]{fontspec}',\n",
    "        r'\\usepackage{newtxtext}',\n",
    "    ]\n",
    "}\n",
    "mpl.rcParams.update(pgf_with_lualatex)\n",
    "\n",
    "# Auto-setting Y-ticks based off of desired frequency\n",
    "    # construct y,x-ticks, axis labels for histograms:\n",
    "    # construct y-ticks:\n",
    "    Ymax = 0.00062\n",
    "    dytick = 0.00004\n",
    "    yticks = math.ceil(Ymax/dytick)\n",
    "    \n",
    "    ax.set_ylim(ymin=0,ymax = Ymax)\n",
    "    ax.set_yticks([ i * dytick for i in range(yticks) ])\n",
    "    ax.set_xlim(xmin=0,xmax=15000)\n",
    "```"
   ]
  },
  {
   "cell_type": "code",
   "execution_count": null,
   "metadata": {
    "collapsed": false
   },
   "outputs": [],
   "source": [
    "normRain = df[df.rain == 1].ENTRIESn_hourly.count()\n",
    "normNonRain = df[df.rain == 0].ENTRIESn_hourly.count()\n",
    "print(normRain,normNonRain)\n",
    "\n",
    "Ymax = 0.00062\n",
    "dtick = 0.00002\n",
    "ticks = math.ceil(Ymax/tick) + 1"
   ]
  },
  {
   "cell_type": "code",
   "execution_count": null,
   "metadata": {
    "collapsed": false
   },
   "outputs": [],
   "source": [
    "df.head(n=53)"
   ]
  },
  {
   "cell_type": "code",
   "execution_count": null,
   "metadata": {
    "collapsed": false,
    "scrolled": true
   },
   "outputs": [],
   "source": [
    "# nice pseudo-transparent legend: \n",
    "#leg = plt.legend(loc=1,fancybox=True, fontsize=14)\n",
    "#leg.get_frame().set_alpha(0.5)\n",
    "\n",
    "#plt.ylabel('number of occurrences')\n",
    "#plt.title('Histograms Rainy vs Non-rainy Days')\n",
    "\n",
    "plt.figure();\n",
    "plt.xlabel('ENTRIESn_hourly')\n",
    "#plt.ylabel('Number of occurences')\n",
    "plt.title('Histogram of ENTRIESn_hourly')\n",
    "\n",
    "#plt.ylim(0,100)\n",
    "histo = df.ENTRIESn_hourly.sort(inplace = False)\n",
    "fit = stats.norm.pdf(histo,histo.mean(),histo.std())\n",
    "plt.plot(histo,fit,'-o')\n",
    "\n",
    "df.ENTRIESn_hourly.hist(alpha=0.5,normed=True)\n",
    "plt.savefig('histogram_entries.pdf')"
   ]
  },
  {
   "cell_type": "code",
   "execution_count": null,
   "metadata": {
    "collapsed": false
   },
   "outputs": [],
   "source": [
    "stats.mstats.normaltest(histo)"
   ]
  },
  {
   "cell_type": "code",
   "execution_count": null,
   "metadata": {
    "collapsed": false
   },
   "outputs": [],
   "source": [
    "weekends = df[df.weekday == 0]['ENTRIESn_hourly']\n",
    "weekdays = df[df.weekday == 1]['ENTRIESn_hourly']"
   ]
  },
  {
   "cell_type": "code",
   "execution_count": null,
   "metadata": {
    "collapsed": false
   },
   "outputs": [],
   "source": [
    "df.ENTRIESn_hourly.mean()"
   ]
  },
  {
   "cell_type": "code",
   "execution_count": null,
   "metadata": {
    "collapsed": false,
    "scrolled": true
   },
   "outputs": [],
   "source": [
    "import scipy\n",
    "p_shapiro = scipy.stats.shapiro(df.ENTRIESn_hourly);\n",
    "p_dandp = scipy.stats.mstats.normaltest(df.ENTRIESn_hourly);\n",
    "print(p_shapiro,p_dandp)\n",
    "print(scipy.stats.ks_2samp(weekends,weekdays),'\\n',\\\n",
    "      scipy.stats.mannwhitneyu(weekends,weekdays))"
   ]
  },
  {
   "cell_type": "code",
   "execution_count": null,
   "metadata": {
    "collapsed": false,
    "scrolled": true
   },
   "outputs": [],
   "source": [
    "import scipy\n",
    "p_KS = 'The p-value using the one sided Kolmogorov-Smirnov test is:'\n",
    "p_MW = 'The p-value using the one sided Mann-Whitney test is:'\n",
    "mean_WE = 'The mean ENTRIESn_hourly for the weekend is:'\n",
    "mean_WD = 'The mean ENTRIESn_hourly for the weekday is:'\n",
    "print(p_KS, scipy.stats.ks_2samp(weekends,weekdays)[1], \\\n",
    "      '\\n' + p_MW, scipy.stats.mannwhitneyu(weekends,weekdays)[1], \\\n",
    "      '\\n' + mean_WE, weekends.mean(), \\\n",
    "      '\\n' + mean_WD, weekdays.mean())"
   ]
  },
  {
   "cell_type": "code",
   "execution_count": null,
   "metadata": {
    "collapsed": true
   },
   "outputs": [],
   "source": [
    "plt.figure(num=None, figsize=(8, 6), dpi=80, facecolor='w', edgecolor='k')\n",
    "df[df.rain == 1].ENTRIESn_hourly.plot(kind='hist', \n",
    "                                      alpha=1,\n",
    "                                      bins = 45,\n",
    "                                      label='Histogram of Rainy Days'\n",
    "                                     )\n",
    "df[df.rain == 0].ENTRIESn_hourly.plot(kind='hist', \n",
    "                                      alpha=0.5,\n",
    "                                      bins = 45,\n",
    "                                      label='Histogram of Rainy Days'\n",
    "                                     )\n",
    "leg = plt.legend(loc=2,fancybox=True, fontsize=14)\n",
    "leg.get_frame().set_alpha(0.5)\n",
    "\n",
    "#plt.xlabel('\\verb|ENTRIESn_hourly|')\n",
    "plt.ylabel('number of occurrences')\n",
    "plt.title('Histograms Rainy vs Non-rainy Days')\n",
    "plt.ylim(ymin=0,ymax=10000)\n",
    "plt.xlim(xmin=0,xmax=15000)"
   ]
  }
 ],
 "metadata": {
  "kernelspec": {
   "display_name": "Python 3",
   "language": "python",
   "name": "python3"
  },
  "language_info": {
   "codemirror_mode": {
    "name": "ipython",
    "version": 3
   },
   "file_extension": ".py",
   "mimetype": "text/x-python",
   "name": "python",
   "nbconvert_exporter": "python",
   "pygments_lexer": "ipython3",
   "version": "3.4.3+"
  }
 },
 "nbformat": 4,
 "nbformat_minor": 0
}
