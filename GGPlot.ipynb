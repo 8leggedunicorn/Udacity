{
 "cells": [
  {
   "cell_type": "code",
   "execution_count": null,
   "metadata": {
    "collapsed": false
   },
   "outputs": [],
   "source": [
    "from pandas import *\n",
    "from ggplot import *\n",
    "#%matplotlib inline\n",
    "\n",
    "ny_subway_data = \\\n",
    "    \"/home/yigal/Downloads/turnstile_data_master_with_weather.csv\"\n",
    "\n",
    "\n",
    "df = read_csv(ny_subway_data)\n",
    "#df = df.sample(frac = 0.1)\n",
    "\n",
    "#hour_ens = hour_ens[hour_ens['ENTRIESn_hourly'] < 7000]"
   ]
  },
  {
   "cell_type": "code",
   "execution_count": null,
   "metadata": {
    "collapsed": false
   },
   "outputs": [],
   "source": [
    "mean_col_name = 'Average Entries hourly'\n",
    "median_col_name = 'Median Entries hourly'\n",
    "hour_mean = hour_ens.groupby('Hour', as_index=False).mean();\n",
    "hour_median = hour_ens.groupby('Hour', as_index=False).median();\n",
    "#hour_ens.rename(columns = {'Hour' : 'Data' }, inplace = True)\n",
    "#hour_mean.rename(columns = {'Hour' : 'Mean' }, inplace = True)\n",
    "#hour_median.rename(columns = {'Hour' : 'Median' }, inplace = True)\n",
    "hour_mean.rename(columns = {'ENTRIESn_hourly' : mean_col_name }, inplace = True)\n",
    "hour_median.rename(columns = {'ENTRIESn_hourly' : median_col_name }, inplace = True)"
   ]
  },
  {
   "cell_type": "code",
   "execution_count": null,
   "metadata": {
    "collapsed": false
   },
   "outputs": [],
   "source": [
    "title = \"Entries per hour from the 1st to the 30th of May 2011 \"\n",
    "xlable = \"Hour\"\n",
    "ylable = \"Entries per hour\"\n",
    "\n",
    "gg = ggplot(aes(x='Hour', y='ENTRIESn_hourly'), data=hour_ens) + \\\n",
    "    geom_point(aes(x='Hour', y= 'ENTRIESn_hourly', size=100, alpha=0.1), color='steelblue') + \\\n",
    "    geom_point(aes(x='Hour', y= mean_col_name), color='yellow', data=hour_mean) + \\\n",
    "    geom_point(aes(x='Hour', y= median_col_name), color='black', data=hour_median) + \\\n",
    "    geom_line(aes(x='Hour', y= mean_col_name), color='yellow', data=hour_mean) + \\\n",
    "    xlab(xlable) + ylab(ylable) + ggtitle(title) + \\\n",
    "    ylim(0,4000) + xlim(-.3,24)\n"
   ]
  },
  {
   "cell_type": "code",
   "execution_count": null,
   "metadata": {
    "collapsed": false
   },
   "outputs": [],
   "source": [
    "ggsave(gg,'entries_per_hour.png')"
   ]
  },
  {
   "cell_type": "code",
   "execution_count": null,
   "metadata": {
    "collapsed": false
   },
   "outputs": [],
   "source": [
    "df.head()"
   ]
  },
  {
   "cell_type": "code",
   "execution_count": null,
   "metadata": {
    "collapsed": false
   },
   "outputs": [],
   "source": [
    "gg"
   ]
  },
  {
   "cell_type": "code",
   "execution_count": null,
   "metadata": {
    "collapsed": false,
    "scrolled": true
   },
   "outputs": [],
   "source": [
    "by_unit = df.loc[:,['Hour', 'ENTRIESn_hourly' , 'UNIT']]\n",
    "#by_unit = hour_ens[['ENTRIESn_hourly','UNIT', 'Hour']]\n",
    "#by_unit = by_unit.groupby('UNIT',as_index=False,sort=False).sum()\n",
    "#by_unit\n",
    "#by_unit.sort_values('ENTRIESn_hourly',ascending = False).head(n=200)"
   ]
  },
  {
   "cell_type": "code",
   "execution_count": null,
   "metadata": {
    "collapsed": false,
    "scrolled": false
   },
   "outputs": [],
   "source": [
    "by_unit = df.loc[:,['Hour', 'ENTRIESn_hourly' , 'UNIT']]\n",
    "by_unit_sort = by_unit.sort_values('ENTRIESn_hourly',ascending = False)\n",
    "\n",
    "#by_unit_sort = by_unit_sort.head(n = 1000)\n",
    "by_unit_sort = by_unit_sort.reset_index()\n",
    "unit_count = by_unit_sort.groupby('UNIT').size().sort_values(ascending = False)\n",
    "unit_count[unit_count >= unit_count[0]/12]\n",
    "if unit_count.count() > 12:\n",
    "    unit_count = unit_count[0:12]\n",
    "unit_list = unit_count.index.tolist()\n",
    "df.loc[df['UNIT'].isin(unit_list)].count().head(n=1)\n",
    "df.head()"
   ]
  },
  {
   "cell_type": "code",
   "execution_count": 49,
   "metadata": {
    "collapsed": false,
    "scrolled": true
   },
   "outputs": [
    {
     "name": "stdout",
     "output_type": "stream",
     "text": [
      "      ENTRIESn_hourly\n",
      "UNIT                 \n",
      "R170          1055865\n",
      "R022           643421\n",
      "R046           627158\n",
      "R033           586375\n",
      "R055           568363\n",
      "R011           501682\n"
     ]
    }
   ],
   "source": [
    "from pandas import *\n",
    "from ggplot import *\n",
    "#%matplotlib inline\n",
    "\n",
    "ny_subway_data = \\\n",
    "    \"/home/yigal/Downloads/turnstile_data_master_with_weather.csv\"\n",
    "\n",
    "\n",
    "df = read_csv(ny_subway_data)\n",
    "df = df.sample(frac=0.33)\n",
    "\n",
    "# Get sorted list of stations by the sum of ENTRIESn: \n",
    "by_unit = df.loc[:,['ENTRIESn_hourly' , 'UNIT']]\n",
    "by_unit = by_unit.groupby('UNIT').sum()\n",
    "by_unit = by_unit.sort_values('ENTRIESn_hourly',ascending = False)\n",
    "\n",
    "# Filter stations with at least 1/3 of the largest data point:\n",
    "by_unit_cut = by_unit[by_unit > by_unit.iloc[0]/3]\n",
    "# PANDAS is nice enough to keep the original df structure so drop NaN values:\n",
    "by_unit_cut = by_unit_cut.dropna()\n",
    "\n",
    "# reduce total number of stations to 6, \n",
    "# too messy to see much of anything without minimizing this number\n",
    "if by_unit_cut.count()[0] > 6: \n",
    "    by_unit_cut = by_unit_cut[0:6]\n",
    "    \n",
    "# Use the generated list to filter out all of the data from the original data \n",
    "# frame:    \n",
    "by_unit_data = df.loc[df['UNIT'].isin(by_unit_cut.index.tolist())]\n",
    "\n",
    "# Now generate a similar plot as above using a different colors for the 11 \n",
    "# stations considered:\n",
    "\n",
    "by_unit_data = by_unit_data[['UNIT','ENTRIESn_hourly','Hour']]\n",
    "by_unit_data = by_unit_data.sort_values('Hour')\n",
    "by_unit_data = by_unit_data.groupby(['UNIT','Hour'], \\\n",
    "    as_index=False).sum()\n",
    "by_unit_data = by_unit_data.sort_values('Hour')\n",
    "by_unit_data\n",
    "print(by_unit_cut.head(n=6))"
   ]
  },
  {
   "cell_type": "code",
   "execution_count": 45,
   "metadata": {
    "collapsed": false
   },
   "outputs": [],
   "source": [
    "title = \"Entries per hour from the top 6 Stations during May 2011 1st through 30th\"\n",
    "xlable = \"Hour\"\n",
    "ylable = \"Entries per hour\"\n",
    "\n",
    "#gg = ggplot(aes(x='Hour', y='ENTRIESn_hourly'), data=hour_ens) + \\\n",
    "#    geom_point(aes(x='Hour', y= 'ENTRIESn_hourly', size=100, alpha=0.1, color='UNIT'))\n",
    "    \n",
    "test = ggplot(by_unit_data, aes(x='Hour', y='ENTRIESn_hourly', color='UNIT')) + \\\n",
    "    geom_point(size=100) + \\\n",
    "    geom_point() + \\\n",
    "    xlab(xlable) + ylab(ylable) + ggtitle(title) + \\\n",
    "    xlim(-.3,24) + ylim(0,400000)"
   ]
  },
  {
   "cell_type": "code",
   "execution_count": 46,
   "metadata": {
    "collapsed": false
   },
   "outputs": [
    {
     "name": "stderr",
     "output_type": "stream",
     "text": [
      "/usr/lib/python3/dist-packages/matplotlib/collections.py:571: FutureWarning: elementwise comparison failed; returning scalar instead, but in the future will perform elementwise comparison\n",
      "  if self._edgecolors == str('face'):\n"
     ]
    },
    {
     "data": {
      "text/plain": [
       "<ggplot: (-9223363269337606817)>"
      ]
     },
     "execution_count": 46,
     "metadata": {},
     "output_type": "execute_result"
    }
   ],
   "source": [
    "test"
   ]
  },
  {
   "cell_type": "code",
   "execution_count": 47,
   "metadata": {
    "collapsed": false
   },
   "outputs": [
    {
     "name": "stderr",
     "output_type": "stream",
     "text": [
      "Saving 11.0 x 8.0 in image.\n",
      "/usr/lib/python3/dist-packages/matplotlib/collections.py:571: FutureWarning: elementwise comparison failed; returning scalar instead, but in the future will perform elementwise comparison\n",
      "  if self._edgecolors == str('face'):\n"
     ]
    }
   ],
   "source": [
    "ggsave(test,'high_unit_per_hour.png')\n",
    "        "
   ]
  },
  {
   "cell_type": "code",
   "execution_count": 51,
   "metadata": {
    "collapsed": false
   },
   "outputs": [
    {
     "data": {
      "text/plain": [
       "120.0"
      ]
     },
     "execution_count": 51,
     "metadata": {},
     "output_type": "execute_result"
    }
   ],
   "source": [
    "( 3.80 + 1 ) * 25"
   ]
  },
  {
   "cell_type": "code",
   "execution_count": 53,
   "metadata": {
    "collapsed": false
   },
   "outputs": [
    {
     "data": {
      "text/plain": [
       "0"
      ]
     },
     "execution_count": 53,
     "metadata": {},
     "output_type": "execute_result"
    }
   ],
   "source": [
    "int(.1/2)"
   ]
  },
  {
   "cell_type": "code",
   "execution_count": null,
   "metadata": {
    "collapsed": true
   },
   "outputs": [],
   "source": []
  }
 ],
 "metadata": {
  "kernelspec": {
   "display_name": "Python 3",
   "language": "python",
   "name": "python3"
  },
  "language_info": {
   "codemirror_mode": {
    "name": "ipython",
    "version": 3
   },
   "file_extension": ".py",
   "mimetype": "text/x-python",
   "name": "python",
   "nbconvert_exporter": "python",
   "pygments_lexer": "ipython3",
   "version": "3.4.3+"
  }
 },
 "nbformat": 4,
 "nbformat_minor": 0
}
