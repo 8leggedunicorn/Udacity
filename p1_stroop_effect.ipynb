{
 "cells": [
  {
   "cell_type": "markdown",
   "metadata": {},
   "source": [
    "** Introduction **\n",
    "\n",
    "In a Stroop task, participants are presented with a list of words, with each word displayed in a color of ink. The participant’s task is to say out loud the color of the ink in which the word is printed. The task has two conditions: a congruent words condition, and an incongruent words condition. In the congruent words condition, the words being displayed are color words whose names match the colors in which they are printed: for example RED, BLUE. In the incongruent words condition, the words displayed are color words whose names do not match the colors in which they are printed: for example PURPLE, ORANGE. In each case, we measure the time it takes to name the ink colors in equally-sized lists. Each participant will go through and record a time from each condition.\n",
    "Questions For Investigation\n",
    "<!---\n",
    "@online{Udacity:P1:Stroop,\n",
    "  author = {Udacity},\n",
    "  title  = {Statistics: The Science of Decisions - Project Instructions},\n",
    "  date   = {2015},\n",
    "  url    = {https://docs.google.com/document/d/1-OkpZLjG_kX9J6LIQ5IltsqMzVWjh36QpnP2RYpVdPU/pub}\n",
    "}\n",
    "-->\n",
    "\n",
    "<!--bibtex\n",
    "\n",
    "\n",
    "-->\n",
    "\n",
    "Examples of citations: <a name=\"ref-1\"/>[(UNDEFINED)](#cite-UDA:2015).\n",
    "\n",
    "As a general note, be sure to keep a record of any resources that you use or refer to in the creation of your project. You will need to report your sources as part of the project submission."
   ]
  },
  {
   "cell_type": "code",
   "execution_count": 1,
   "metadata": {
    "collapsed": true
   },
   "outputs": [],
   "source": [
    "from sympy.interactive import printing\n",
    "printing.init_printing(use_latex=True)"
   ]
  },
  {
   "cell_type": "markdown",
   "metadata": {},
   "source": [
    "# What is our independent variable? What is our dependent variable?"
   ]
  },
  {
   "cell_type": "markdown",
   "metadata": {},
   "source": [
    "The independent variable is a binary condition that of either congruency or incongruency between the color of a word, and the symantic meaning of the word.  As example the word <font color='red'>'RED'</font> is a congruent example where the word 'red' has the color of its symantic meaning, i.e. the color it represents, and <font color='green'>'BLUE'</font> is an incongruent case where the word 'blue' which has the symantic meaning of the color blue is instead the color green.  Frome here on out the terms congruent color selection, CCS, and incongruent color selection, ICS, will be used to denote the two conditions the dependent variable may take that of a word representing a color being colored with or with a different color respectively.\n",
    "\n",
    "The dependent variable is the time, in seconds, it takes to read through an equal sized lists of CCS or ICS words."
   ]
  },
  {
   "cell_type": "markdown",
   "metadata": {},
   "source": [
    "# What is an appropriate set of hypotheses for this task? What kind of statistical test do you expect to perform? Justify your choices."
   ]
  },
  {
   "cell_type": "markdown",
   "metadata": {},
   "source": [
    "The null hypothesis, $H_0$ is the statement that the ICS task will take less or an equal amount of time to the CCS task.  The alternative hypothesis, $H_A$ is the statement that the mean population time to read an ICS list will be greater than an equally sized CCS list. The null and alternative hypothesis choice stems from a need to test quantatively the validity and extent of an already well respected phenomenon the Stroop effect.  The Stroop effect being defined to mean that cognitive incongruences will lead to an increase in the reaction time of a task.  \n",
    "    It is true that this single tailed objective may not provide insight if indeed the reaction time for ICS word lists take, on the average, less time to complete, however this is a test regarding the scope and veracity of the Stroop effect which has been shown in many previous quantative tests to have general validity.  If indeed the ICS task takes less time it is enough that $H_0$ should be kept to cause doubt regarding the validity of either the test or the Stroop effect.  That is due to the large body of work already done to test the effect if $H_0$ is kept there is either something wrong with the experiment or the Stroop effect has either more limitations on generalizability than expected or there are indeed real issues with it's veracity.  So to sum things up via a set of equations: \n",
    "    \n",
    "\\begin{align}\n",
    "H_0:\\; \\mu_{ICS} &&\\le&& \\mu_{CCS} \\\\\n",
    "H_A:\\; \\mu_{ICS} &&>&& \\mu_{CCS}\n",
    "\\end{align}"
   ]
  },
  {
   "cell_type": "markdown",
   "metadata": {},
   "source": [
    "# Report some descriptive statistics regarding this dataset. Include at least one measure of central tendency and at least one measure of variability."
   ]
  },
  {
   "cell_type": "markdown",
   "metadata": {},
   "source": [
    "Below I've printed the mean, sample standard deviation, minimum values, 25th, 50th, 75th percentiles, maximums, and the median for both the CCS and ICS samples, all values are in seconds.  For central tendency I've included both the mean, and the median - which in this case is simply the 50th percentile.  Notice the fact that for both CCS and ICS the median and mean are nearly identical, for the CCS case it's less than one third of a second difference, and for the ICS case the difference between these two measure of central tendency is only slightly greater than a second.  This points to both distribution being evenly distributed around the mean.  As we can see for nearly all percentiles, minimum and maximum, and mean values the CCS times are roughly two thirds of the value of the ICS times, and all times for every category are significantly longer for the ICS sample relative to the CCS. \n",
    "    \n",
    "An indication of the relative spread can be observed by looking at the sample standard deviations.  the ICS case is slightly more spread out than the CCS case $4.797s$ to $3.559s$ respectively, i.e slightly over a second more for the ICS sample.  To gain a better descriptive understanding of the spread we can also look at the range, i.e. $R = x_{max} - x_{min}$ of the two samples:\n",
    "\\begin{align}\n",
    "R_{CCS} &= 22.328000 - 8.630000 & = 13.698\\\\\n",
    "R_{ICS} &= 35.255000 - 15.687000 & = 19.568\n",
    "\\end{align}\n",
    "From both the sample standard deviation and the range we can see that the spread of the ICS sample is greater both in terms of the range, i.e. outliers, and of the sample standard deviation:"
   ]
  },
  {
   "cell_type": "code",
   "execution_count": 2,
   "metadata": {
    "collapsed": false
   },
   "outputs": [
    {
     "data": {
      "text/html": [
       "<div>\n",
       "<table border=\"1\" class=\"dataframe\">\n",
       "  <thead>\n",
       "    <tr style=\"text-align: right;\">\n",
       "      <th></th>\n",
       "      <th>Congruent</th>\n",
       "      <th>Incongruent</th>\n",
       "    </tr>\n",
       "  </thead>\n",
       "  <tbody>\n",
       "    <tr>\n",
       "      <th>count</th>\n",
       "      <td>24.000000</td>\n",
       "      <td>24.000000</td>\n",
       "    </tr>\n",
       "    <tr>\n",
       "      <th>mean</th>\n",
       "      <td>14.051125</td>\n",
       "      <td>22.015917</td>\n",
       "    </tr>\n",
       "    <tr>\n",
       "      <th>std</th>\n",
       "      <td>3.559358</td>\n",
       "      <td>4.797057</td>\n",
       "    </tr>\n",
       "    <tr>\n",
       "      <th>min</th>\n",
       "      <td>8.630000</td>\n",
       "      <td>15.687000</td>\n",
       "    </tr>\n",
       "    <tr>\n",
       "      <th>25%</th>\n",
       "      <td>11.895250</td>\n",
       "      <td>18.716750</td>\n",
       "    </tr>\n",
       "    <tr>\n",
       "      <th>50%</th>\n",
       "      <td>14.356500</td>\n",
       "      <td>21.017500</td>\n",
       "    </tr>\n",
       "    <tr>\n",
       "      <th>75%</th>\n",
       "      <td>16.200750</td>\n",
       "      <td>24.051500</td>\n",
       "    </tr>\n",
       "    <tr>\n",
       "      <th>max</th>\n",
       "      <td>22.328000</td>\n",
       "      <td>35.255000</td>\n",
       "    </tr>\n",
       "  </tbody>\n",
       "</table>\n",
       "</div>"
      ],
      "text/plain": [
       "       Congruent  Incongruent\n",
       "count  24.000000    24.000000\n",
       "mean   14.051125    22.015917\n",
       "std     3.559358     4.797057\n",
       "min     8.630000    15.687000\n",
       "25%    11.895250    18.716750\n",
       "50%    14.356500    21.017500\n",
       "75%    16.200750    24.051500\n",
       "max    22.328000    35.255000"
      ]
     },
     "execution_count": 2,
     "metadata": {},
     "output_type": "execute_result"
    }
   ],
   "source": [
    "import pandas as pd\n",
    "import numpy as np\n",
    "stroopdata = pd.read_csv('stroopdata.csv')\n",
    "stroopdata.describe()"
   ]
  },
  {
   "cell_type": "markdown",
   "metadata": {},
   "source": [
    "and a simple calculation of the range for the CCS and ICS samples:"
   ]
  },
  {
   "cell_type": "code",
   "execution_count": 3,
   "metadata": {
    "collapsed": false
   },
   "outputs": [
    {
     "name": "stdout",
     "output_type": "stream",
     "text": [
      "\n",
      "The range for the two cases:\n",
      " Congruent      13.698\n",
      "Incongruent    19.568\n",
      "dtype: float64\n"
     ]
    },
    {
     "data": {
      "text/plain": [
       "'Congruent &  &     13.698\\nIncongruent    19.568\\ndtype: float64'"
      ]
     },
     "execution_count": 3,
     "metadata": {},
     "output_type": "execute_result"
    }
   ],
   "source": [
    "print(\"\\nThe range for the two cases:\\n\", stroopdata.max() - stroopdata.min())\n",
    "rangeR = stroopdata.max() - stroopdata.min()\n",
    "str(rangeR).replace(' ',' & ',2)"
   ]
  },
  {
   "cell_type": "markdown",
   "metadata": {},
   "source": [
    "# Provide one or two visualizations that show the distribution of the sample data. Write one or two sentences noting what you observe about the plot or plots."
   ]
  },
  {
   "cell_type": "code",
   "execution_count": 4,
   "metadata": {
    "collapsed": false
   },
   "outputs": [
    {
     "data": {
      "text/plain": [
       "(array([7, 9, 5, 1, 0, 2]),\n",
       " array([ 15.687     ,  18.94833333,  22.20966667,  25.471     ,\n",
       "         28.73233333,  31.99366667,  35.255     ]))"
      ]
     },
     "execution_count": 4,
     "metadata": {},
     "output_type": "execute_result"
    }
   ],
   "source": [
    "np.histogram(stroopdata['Congruent'],bins=6)\n",
    "np.histogram(stroopdata['Incongruent'],bins=6)"
   ]
  },
  {
   "cell_type": "code",
   "execution_count": 5,
   "metadata": {
    "collapsed": false
   },
   "outputs": [
    {
     "name": "stdout",
     "output_type": "stream",
     "text": [
      "Populating the interactive namespace from numpy and matplotlib\n"
     ]
    },
    {
     "ename": "NameError",
     "evalue": "name 'ax' is not defined",
     "output_type": "error",
     "traceback": [
      "\u001b[1;31m---------------------------------------------------------------------------\u001b[0m",
      "\u001b[1;31mNameError\u001b[0m                                 Traceback (most recent call last)",
      "\u001b[1;32m<ipython-input-5-73eca8e2fd8e>\u001b[0m in \u001b[0;36m<module>\u001b[1;34m()\u001b[0m\n\u001b[0;32m      7\u001b[0m \u001b[0mx\u001b[0m \u001b[1;33m=\u001b[0m \u001b[0mstroopdata\u001b[0m\u001b[1;33m[\u001b[0m\u001b[1;34m'Congruent'\u001b[0m\u001b[1;33m]\u001b[0m\u001b[1;33m\u001b[0m\u001b[0m\n\u001b[0;32m      8\u001b[0m \u001b[0mnumBins\u001b[0m \u001b[1;33m=\u001b[0m \u001b[1;36m6\u001b[0m\u001b[1;33m\u001b[0m\u001b[0m\n\u001b[1;32m----> 9\u001b[1;33m \u001b[0max\u001b[0m\u001b[1;33m.\u001b[0m\u001b[0mhist\u001b[0m\u001b[1;33m(\u001b[0m\u001b[0mx\u001b[0m\u001b[1;33m,\u001b[0m\u001b[0mnumBins\u001b[0m\u001b[1;33m,\u001b[0m\u001b[0mcolor\u001b[0m\u001b[1;33m=\u001b[0m\u001b[1;34m'green'\u001b[0m\u001b[1;33m,\u001b[0m\u001b[0malpha\u001b[0m\u001b[1;33m=\u001b[0m\u001b[1;36m0.8\u001b[0m\u001b[1;33m)\u001b[0m\u001b[1;33m\u001b[0m\u001b[0m\n\u001b[0m\u001b[0;32m     10\u001b[0m \u001b[0mplt\u001b[0m\u001b[1;33m.\u001b[0m\u001b[0mshow\u001b[0m\u001b[1;33m(\u001b[0m\u001b[1;33m)\u001b[0m\u001b[1;33m\u001b[0m\u001b[0m\n",
      "\u001b[1;31mNameError\u001b[0m: name 'ax' is not defined"
     ]
    }
   ],
   "source": [
    "import numpy as np\n",
    "import matplotlib.pyplot as plt\n",
    "\n",
    "%pylab inline\n",
    "pylab.rcParams['figure.figsize'] = (8.0, 7.0)\n",
    "\n",
    "x = stroopdata['Congruent']\n",
    "numBins = 6\n",
    "ax.hist(x,numBins,color='green',alpha=0.8)\n",
    "plt.show()"
   ]
  },
  {
   "cell_type": "code",
   "execution_count": 6,
   "metadata": {
    "collapsed": false
   },
   "outputs": [
    {
     "data": {
      "text/plain": [
       "pandas.core.series.Series"
      ]
     },
     "execution_count": 6,
     "metadata": {},
     "output_type": "execute_result"
    }
   ],
   "source": [
    "type(x)"
   ]
  },
  {
   "cell_type": "code",
   "execution_count": 7,
   "metadata": {
    "collapsed": false
   },
   "outputs": [
    {
     "data": {
      "image/png": "[encoded data removed]",
      "text/plain": [
       "<matplotlib.figure.Figure at 0x7f45b549b710>"
      ]
     },
     "metadata": {},
     "output_type": "display_data"
    }
   ],
   "source": [
    "import numpy as np\n",
    "import matplotlib.pyplot as plt\n",
    "\n",
    "fig = plt.figure()\n",
    "ax = fig.add_subplot(111)\n",
    "\n",
    "#x = np.random.normal(0,1,1000)\n",
    "x = stroopdata['Congruent']\n",
    "numBins = 10\n",
    "ax.hist(x,numBins,color='b',alpha=0.8)\n",
    "plt.show()"
   ]
  },
  {
   "cell_type": "code",
   "execution_count": 8,
   "metadata": {
    "collapsed": false
   },
   "outputs": [
    {
     "data": {
      "text/plain": [
       "3.14"
      ]
     },
     "execution_count": 8,
     "metadata": {},
     "output_type": "execute_result"
    }
   ],
   "source": [
    "Pi = round(pi,2)\n",
    "Pi"
   ]
  },
  {
   "cell_type": "code",
   "execution_count": 9,
   "metadata": {
    "collapsed": false
   },
   "outputs": [
    {
     "name": "stderr",
     "output_type": "stream",
     "text": [
      "/usr/lib/python3/dist-packages/matplotlib/__init__.py:1314: UserWarning:  This call to matplotlib.use() has no effect\n",
      "because the backend has already been chosen;\n",
      "matplotlib.use() must be called *before* pylab, matplotlib.pyplot,\n",
      "or matplotlib.backends is imported for the first time.\n",
      "\n",
      "  warnings.warn(_use_error_msg)\n"
     ]
    },
    {
     "data": {
      "image/png": "[encoded data removed]",
      "text/plain": [
       "<matplotlib.figure.Figure at 0x7f45b5482898>"
      ]
     },
     "metadata": {},
     "output_type": "display_data"
    }
   ],
   "source": [
    "import matplotlib as mpl\n",
    "mpl.use('pgf')\n",
    "import matplotlib.pyplot as plt\n",
    "\n",
    "pgf_with_lualatex = {\n",
    "    \"text.usetex\": True,\n",
    "    \"pgf.rcfonts\": False,   # Do not set up fonts from rc parameters.\n",
    "    \"pgf.texsystem\": \"lualatex\",\n",
    "    \"pgf.preamble\": [\n",
    "        r'\\usepackage[libertine]{newtxmath}',\n",
    "        r'\\usepackage[no-math]{fontspec}',\n",
    "        r'\\usepackage{libertine}',\n",
    "        ]\n",
    "}\n",
    "mpl.rcParams.update(pgf_with_lualatex)\n",
    "\n",
    "fig = plt.figure()\n",
    "ax1 = fig.add_subplot(1, 1, 1)\n",
    "ax1.set_xlabel(\"$a b c$\", fontsize = 14)\n",
    "plt.savefig('figure.pdf')"
   ]
  },
  {
   "cell_type": "code",
   "execution_count": 24,
   "metadata": {
    "collapsed": false,
    "scrolled": true
   },
   "outputs": [
    {
     "data": {
      "image/png": "[encoded data removed]",
      "text/plain": [
       "<matplotlib.figure.Figure at 0x7f45b459a9e8>"
      ]
     },
     "metadata": {},
     "output_type": "display_data"
    }
   ],
   "source": [
    "import numpy as np\n",
    "import matplotlib.pyplot as plt\n",
    "\n",
    "fig = plt.figure()\n",
    "ax = fig.add_subplot(111)\n",
    "\n",
    "#x = np.random.normal(0,1,1000)\n",
    "x = stroopdata['Incongruent']\n",
    "\n",
    "histICS = ax.hist(x,\n",
    "        bins = 10,\n",
    "        color='b',\n",
    "        alpha=0.8,\n",
    "        label='Histogram of ICS Sample'\n",
    "       )\n",
    "\n",
    "# add some text for labels, title, pretty legend, axes ticks\n",
    "plt.xlabel('Time (s)')\n",
    "plt.ylabel('# of Subjects in bin')\n",
    "plt.title('Scores for CCS and ICS')\n",
    "\n",
    "leg = plt.legend(loc=2,fancybox=True, fontsize=14)\n",
    "leg.get_frame().set_alpha(0.5)\n",
    "\n",
    "xind = [ round(i,2) for i in histICS[1] ]\n",
    "plt.xticks( histICS[1], xind, rotation=-90)\n",
    "\n",
    "plt.show()\n"
   ]
  },
  {
   "cell_type": "code",
   "execution_count": 18,
   "metadata": {
    "collapsed": false
   },
   "outputs": [
    {
     "data": {
      "text/plain": [
       "3     15.687\n",
       "7     17.394\n",
       "18    17.425\n",
       "12    17.510\n",
       "21    17.960\n",
       "11    18.644\n",
       "1     18.741\n",
       "0     19.278\n",
       "13    20.330\n",
       "17    20.429\n",
       "8     20.762\n",
       "5     20.878\n",
       "23    21.157\n",
       "2     21.214\n",
       "22    22.058\n",
       "15    22.158\n",
       "4     22.803\n",
       "20    23.894\n",
       "10    24.524\n",
       "6     24.572\n",
       "16    25.139\n",
       "9     26.282\n",
       "Name: Incongruent, dtype: float64"
      ]
     },
     "execution_count": 18,
     "metadata": {},
     "output_type": "execute_result"
    }
   ],
   "source": [
    "x = stroopdata['Incongruent'].where(stroopdata['Incongruent'] < 30).dropna().sort_values()\n",
    "x"
   ]
  },
  {
   "cell_type": "code",
   "execution_count": 23,
   "metadata": {
    "collapsed": false
   },
   "outputs": [
    {
     "data": {
      "image/png": "[encoded data removed]",
      "text/plain": [
       "<matplotlib.figure.Figure at 0x7f45b45bfe10>"
      ]
     },
     "metadata": {},
     "output_type": "display_data"
    }
   ],
   "source": [
    "import numpy as np\n",
    "import matplotlib.pyplot as plt\n",
    "\n",
    "fig = plt.figure()\n",
    "ax = fig.add_subplot(111)\n",
    "\n",
    "x = stroopdata['Incongruent'].where(stroopdata['Incongruent'] < 30).dropna().sort_values()\n",
    "\n",
    "histICS = ax.hist(x,\n",
    "        bins = 10,\n",
    "        color='b',\n",
    "        alpha=0.8,\n",
    "        label='Histogram of ICS Sample'\n",
    "       )\n",
    "\n",
    "# add some text for labels, title, pretty legend, axes ticks\n",
    "plt.xlabel('Time (s)')\n",
    "plt.ylabel('# of Subjects in bin')\n",
    "plt.title('Scores for CCS and ICS')\n",
    "\n",
    "leg = plt.legend(loc=2,fancybox=True, fontsize=14)\n",
    "leg.get_frame().set_alpha(0.5)\n",
    "\n",
    "xind = [ round(i,2) for i in histICS[1] ]\n",
    "plt.xticks( histICS[1], xind, rotation=-90)\n",
    "\n",
    "plt.show()"
   ]
  },
  {
   "cell_type": "code",
   "execution_count": 11,
   "metadata": {
    "collapsed": false
   },
   "outputs": [
    {
     "data": {
      "text/plain": [
       "array([ 15.687     ,  18.94833333,  22.20966667,  25.471     ,\n",
       "        28.73233333,  31.99366667,  35.255     ])"
      ]
     },
     "execution_count": 11,
     "metadata": {},
     "output_type": "execute_result"
    }
   ],
   "source": [
    "histICS[1]"
   ]
  },
  {
   "cell_type": "code",
   "execution_count": 12,
   "metadata": {
    "collapsed": false
   },
   "outputs": [
    {
     "data": {
      "text/plain": [
       "pandas.core.series.Series"
      ]
     },
     "execution_count": 12,
     "metadata": {},
     "output_type": "execute_result"
    }
   ],
   "source": [
    "type(x)"
   ]
  },
  {
   "cell_type": "code",
   "execution_count": null,
   "metadata": {
    "collapsed": false,
    "scrolled": true
   },
   "outputs": [],
   "source": [
    "import numpy as np\n",
    "import matplotlib.pyplot as plt\n",
    "\n",
    "%pylab inline\n",
    "pylab.rcParams['figure.figsize'] = (8.0, 7.0)\n",
    "\n",
    "fig = plt.subplots(figsize=(6.0, 4.5), dpi=100)\n",
    "\n",
    "#fig, ax = plt.subplots()\n",
    "bar_width = 0.35\n",
    "opacity = 0.6\n",
    "\n",
    "index = list(range(0,stroopdata.count()[0]))\n",
    "rects1 = plt.bar(index, stroopdata.sort_values(by='Congruent')['Congruent'], \n",
    "                 bar_width,\n",
    "                 alpha=opacity,\n",
    "                 color='k',\n",
    "                 label='CCS Sample')\n",
    "\n",
    "index = [ i + bar_width for i in index]\n",
    "rects2 = plt.bar(index, stroopdata.sort_values(by='Congruent')['Incongruent'], \n",
    "                 bar_width,\n",
    "                 alpha=opacity,\n",
    "                 color='b',\n",
    "                 label='ICS Sample')\n",
    "\n",
    "plt.axhline(y = stroopdata.mean()[0], \n",
    "            xmin=-1, \n",
    "            xmax = 24, \n",
    "            linewidth=2, \n",
    "            color='k',\n",
    "            ls = 'dotted',\n",
    "            label='Average for CCS Sample')\n",
    "\n",
    "plt.axhline(y = stroopdata.median()[0], \n",
    "            xmin=-1, \n",
    "            xmax = 24, \n",
    "            linewidth=2, \n",
    "            color='r',\n",
    "            ls = 'dashed',\n",
    "            label='Median for CCS Sample')\n",
    "\n",
    "# add some text for labels, title, pretty legend, axes ticks\n",
    "plt.xlabel('Subject #')\n",
    "plt.ylabel('Time (s)')\n",
    "plt.title('Scores for CCS and ICS')\n",
    "\n",
    "leg = plt.legend(loc=2,fancybox=True, fontsize=14)\n",
    "leg.get_frame().set_alpha(0.5)\n",
    "\n",
    "ccs_sort = stroopdata.sort_values(by='Congruent')\n",
    "xloc = list(range(1,ccs_sort.count()[0] +1 ))\n",
    "xloc = [ i + bar_width - 1 for i in xloc]\n",
    "xind = [ i + 1 for i in ccs_sort.index ]\n",
    "ymin_graph = int(ceil(stroopdata.min()[0])) - 1\n",
    "ymax_graph = int(ceil(stroopdata.max()[1])) + 1\n",
    "#yind = list(range(ymin_graph, ymax_graph + 1,2))\n",
    "yind = list(range(0, ymax_graph + 1,2))\n",
    "\n",
    "#plt.ylim(ymin_graph, ymax_graph)\n",
    "plt.ylim(0, ymax_graph)\n",
    "plt.xticks( xloc, xind)\n",
    "plt.yticks( yind, yind)\n",
    "\n",
    "plt.tight_layout()\n",
    "plt.savefig('bar_graph.pdf')"
   ]
  },
  {
   "cell_type": "code",
   "execution_count": null,
   "metadata": {
    "collapsed": true
   },
   "outputs": [],
   "source": []
  },
  {
   "cell_type": "markdown",
   "metadata": {},
   "source": [
    "The bar graph above shows graphically that each subject took more time on the ICS word list than on the CCS word list."
   ]
  },
  {
   "cell_type": "markdown",
   "metadata": {},
   "source": [
    "# Now, perform the statistical test and report your results. What is your confidence level and your critical statistic value? Do you reject the null hypothesis or fail to reject it? Come to a conclusion in terms of the experiment task. Did the results match up with your expectations?"
   ]
  },
  {
   "cell_type": "markdown",
   "metadata": {},
   "source": [
    "# What do you think is responsible for the effects observed? Can you think of an alternative or similar task that would result in a similar effect? Some research about the problem will be helpful for thinking about these two questions!"
   ]
  },
  {
   "cell_type": "code",
   "execution_count": 26,
   "metadata": {
    "collapsed": false
   },
   "outputs": [
    {
     "data": {
      "text/plain": [
       "pandas.core.series.Series"
      ]
     },
     "execution_count": 26,
     "metadata": {},
     "output_type": "execute_result"
    }
   ],
   "source": [
    "type(stroopdata['Incongruent'])"
   ]
  },
  {
   "cell_type": "code",
   "execution_count": 27,
   "metadata": {
    "collapsed": true
   },
   "outputs": [],
   "source": [
    "Test = 'Histogram of ICS Sample'"
   ]
  },
  {
   "cell_type": "code",
   "execution_count": 28,
   "metadata": {
    "collapsed": false
   },
   "outputs": [
    {
     "data": {
      "text/plain": [
       "str"
      ]
     },
     "execution_count": 28,
     "metadata": {},
     "output_type": "execute_result"
    }
   ],
   "source": [
    "type(Test)"
   ]
  },
  {
   "cell_type": "code",
   "execution_count": 29,
   "metadata": {
    "collapsed": false
   },
   "outputs": [
    {
     "data": {
      "text/plain": [
       "str"
      ]
     },
     "execution_count": 29,
     "metadata": {},
     "output_type": "execute_result"
    }
   ],
   "source": [
    "type(r\"\\textbf{Histogram of ICS with 6 Bins}\")"
   ]
  },
  {
   "cell_type": "code",
   "execution_count": null,
   "metadata": {
    "collapsed": true
   },
   "outputs": [],
   "source": []
  }
 ],
 "metadata": {
  "kernelspec": {
   "display_name": "Python 3",
   "language": "python",
   "name": "python3"
  },
  "language_info": {
   "codemirror_mode": {
    "name": "ipython",
    "version": 3
   },
   "file_extension": ".py",
   "mimetype": "text/x-python",
   "name": "python",
   "nbconvert_exporter": "python",
   "pygments_lexer": "ipython3",
   "version": "3.4.3+"
  }
 },
 "nbformat": 4,
 "nbformat_minor": 0
}
