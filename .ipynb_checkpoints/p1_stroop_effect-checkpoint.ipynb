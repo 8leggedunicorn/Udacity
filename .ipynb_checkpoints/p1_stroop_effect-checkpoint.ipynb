{
 "cells": [
  {
   "cell_type": "markdown",
   "metadata": {},
   "source": [
    "** Introduction **\n",
    "\n",
    "In a Stroop task, participants are presented with a list of words, with each word displayed in a color of ink. The participant’s task is to say out loud the color of the ink in which the word is printed. The task has two conditions: a congruent words condition, and an incongruent words condition. In the congruent words condition, the words being displayed are color words whose names match the colors in which they are printed: for example RED, BLUE. In the incongruent words condition, the words displayed are color words whose names do not match the colors in which they are printed: for example PURPLE, ORANGE. In each case, we measure the time it takes to name the ink colors in equally-sized lists. Each participant will go through and record a time from each condition.\n",
    "Questions For Investigation\n",
    "<!---\n",
    "@online{Udacity:P1:Stroop,\n",
    "  author = {Udacity},\n",
    "  title  = {Statistics: The Science of Decisions - Project Instructions},\n",
    "  date   = {2015},\n",
    "  url    = {https://docs.google.com/document/d/1-OkpZLjG_kX9J6LIQ5IltsqMzVWjh36QpnP2RYpVdPU/pub}\n",
    "}\n",
    "-->\n",
    "\n",
    "<!--bibtex\n",
    "\n",
    "\n",
    "-->\n",
    "\n",
    "Examples of citations: <a name=\"ref-1\"/>[(UNDEFINED)](#cite-UDA:2015).\n",
    "\n",
    "As a general note, be sure to keep a record of any resources that you use or refer to in the creation of your project. You will need to report your sources as part of the project submission."
   ]
  },
  {
   "cell_type": "code",
   "execution_count": null,
   "metadata": {
    "collapsed": true
   },
   "outputs": [],
   "source": [
    "from sympy.interactive import printing\n",
    "printing.init_printing(use_latex=True)"
   ]
  },
  {
   "cell_type": "markdown",
   "metadata": {},
   "source": [
    "# What is our independent variable? What is our dependent variable?"
   ]
  },
  {
   "cell_type": "markdown",
   "metadata": {},
   "source": [
    "The independent variable is a binary condition that of either congruency or incongruency between the color of a word, and the symantic meaning of the word.  As example the word <font color='red'>'RED'</font> is a congruent example where the word 'red' has the color of its symantic meaning, i.e. the color it represents, and <font color='green'>'BLUE'</font> is an incongruent case where the word 'blue' which has the symantic meaning of the color blue is instead the color green.  Frome here on out the terms congruent color selection, CCS, and incongruent color selection, ICS, will be used to denote the two conditions the dependent variable may take that of a word representing a color being colored with or with a different color respectively.\n",
    "\n",
    "The dependent variable is the time, in seconds, it takes to read through an equal sized lists of CCS or ICS words."
   ]
  },
  {
   "cell_type": "markdown",
   "metadata": {},
   "source": [
    "# What is an appropriate set of hypotheses for this task? What kind of statistical test do you expect to perform? Justify your choices."
   ]
  },
  {
   "cell_type": "markdown",
   "metadata": {},
   "source": [
    "The null hypothesis, $H_0$ is the statement that the ICS task will take less or an equal amount of time to the CCS task.  The alternative hypothesis, $H_A$ is the statement that the mean population time to read an ICS list will be greater than an equally sized CCS list. The null and alternative hypothesis choice stems from a need to test quantatively the validity and extent of an already well respected phenomenon the Stroop effect.  The Stroop effect being defined to mean that cognitive incongruences will lead to an increase in the reaction time of a task.  \n",
    "    It is true that this single tailed objective may not provide insight if indeed the reaction time for ICS word lists take, on the average, less time to complete, however this is a test regarding the scope and veracity of the Stroop effect which has been shown in many previous quantative tests to have general validity.  If indeed the ICS task takes less time it is enough that $H_0$ should be kept to cause doubt regarding the validity of either the test or the Stroop effect.  That is due to the large body of work already done to test the effect if $H_0$ is kept there is either something wrong with the experiment or the Stroop effect has either more limitations on generalizability than expected or there are indeed real issues with it's veracity.  So to sum things up via a set of equations: \n",
    "    \n",
    "\\begin{align}\n",
    "H_0:\\; \\mu_{ICS} &&\\le&& \\mu_{CCS} \\\\\n",
    "H_A:\\; \\mu_{ICS} &&>&& \\mu_{CCS}\n",
    "\\end{align}"
   ]
  },
  {
   "cell_type": "markdown",
   "metadata": {},
   "source": [
    "# Report some descriptive statistics regarding this dataset. Include at least one measure of central tendency and at least one measure of variability."
   ]
  },
  {
   "cell_type": "markdown",
   "metadata": {},
   "source": [
    "Below I've printed the mean, sample standard deviation, minimum values, 25th, 50th, 75th percentiles, maximums, and the median for both the CCS and ICS samples, all values are in seconds.  For central tendency I've included both the mean, and the median - which in this case is simply the 50th percentile.  Notice the fact that for both CCS and ICS the median and mean are nearly identical, for the CCS case it's less than one third of a second difference, and for the ICS case the difference between these two measure of central tendency is only slightly greater than a second.  This points to both distribution being evenly distributed around the mean.  As we can see for nearly all percentiles, minimum and maximum, and mean values the CCS times are roughly two thirds of the value of the ICS times, and all times for every category are significantly longer for the ICS sample relative to the CCS. \n",
    "    \n",
    "An indication of the relative spread can be observed by looking at the sample standard deviations.  the ICS case is slightly more spread out than the CCS case $4.797s$ to $3.559s$ respectively, i.e slightly over a second more for the ICS sample.  To gain a better descriptive understanding of the spread we can also look at the range, i.e. $R = x_{max} - x_{min}$ of the two samples:\n",
    "\\begin{align}\n",
    "R_{CCS} &= 22.328000 - 8.630000 & = 13.698\\\\\n",
    "R_{ICS} &= 35.255000 - 15.687000 & = 19.568\n",
    "\\end{align}\n",
    "From both the sample standard deviation and the range we can see that the spread of the ICS sample is greater both in terms of the range, i.e. outliers, and of the sample standard deviation:"
   ]
  },
  {
   "cell_type": "code",
   "execution_count": 31,
   "metadata": {
    "collapsed": false
   },
   "outputs": [
    {
     "data": {
      "text/html": [
       "<div>\n",
       "<table border=\"1\" class=\"dataframe\">\n",
       "  <thead>\n",
       "    <tr style=\"text-align: right;\">\n",
       "      <th></th>\n",
       "      <th>Congruent</th>\n",
       "      <th>Incongruent</th>\n",
       "    </tr>\n",
       "  </thead>\n",
       "  <tbody>\n",
       "    <tr>\n",
       "      <th>count</th>\n",
       "      <td>24.000000</td>\n",
       "      <td>24.000000</td>\n",
       "    </tr>\n",
       "    <tr>\n",
       "      <th>mean</th>\n",
       "      <td>14.051125</td>\n",
       "      <td>22.015917</td>\n",
       "    </tr>\n",
       "    <tr>\n",
       "      <th>std</th>\n",
       "      <td>3.559358</td>\n",
       "      <td>4.797057</td>\n",
       "    </tr>\n",
       "    <tr>\n",
       "      <th>min</th>\n",
       "      <td>8.630000</td>\n",
       "      <td>15.687000</td>\n",
       "    </tr>\n",
       "    <tr>\n",
       "      <th>25%</th>\n",
       "      <td>11.895250</td>\n",
       "      <td>18.716750</td>\n",
       "    </tr>\n",
       "    <tr>\n",
       "      <th>50%</th>\n",
       "      <td>14.356500</td>\n",
       "      <td>21.017500</td>\n",
       "    </tr>\n",
       "    <tr>\n",
       "      <th>75%</th>\n",
       "      <td>16.200750</td>\n",
       "      <td>24.051500</td>\n",
       "    </tr>\n",
       "    <tr>\n",
       "      <th>max</th>\n",
       "      <td>22.328000</td>\n",
       "      <td>35.255000</td>\n",
       "    </tr>\n",
       "  </tbody>\n",
       "</table>\n",
       "</div>"
      ],
      "text/plain": [
       "       Congruent  Incongruent\n",
       "count  24.000000    24.000000\n",
       "mean   14.051125    22.015917\n",
       "std     3.559358     4.797057\n",
       "min     8.630000    15.687000\n",
       "25%    11.895250    18.716750\n",
       "50%    14.356500    21.017500\n",
       "75%    16.200750    24.051500\n",
       "max    22.328000    35.255000"
      ]
     },
     "execution_count": 31,
     "metadata": {},
     "output_type": "execute_result"
    }
   ],
   "source": [
    "import pandas as pd\n",
    "import numpy as np\n",
    "stroopdata = pd.read_csv('stroopdata.csv')\n",
    "stroopdata.describe()"
   ]
  },
  {
   "cell_type": "markdown",
   "metadata": {},
   "source": [
    "and a simple calculation of the range for the CCS and ICS samples:"
   ]
  },
  {
   "cell_type": "code",
   "execution_count": 2,
   "metadata": {
    "collapsed": false
   },
   "outputs": [
    {
     "name": "stdout",
     "output_type": "stream",
     "text": [
      "\n",
      "The range for the two cases:\n",
      " Congruent      13.698\n",
      "Incongruent    19.568\n",
      "dtype: float64\n"
     ]
    },
    {
     "data": {
      "text/plain": [
       "'Congruent &  &     13.698\\nIncongruent    19.568\\ndtype: float64'"
      ]
     },
     "execution_count": 2,
     "metadata": {},
     "output_type": "execute_result"
    }
   ],
   "source": [
    "print(\"\\nThe range for the two cases:\\n\", stroopdata.max() - stroopdata.min())\n",
    "rangeR = stroopdata.max() - stroopdata.min()\n",
    "str(rangeR).replace(' ',' & ',2)"
   ]
  },
  {
   "cell_type": "markdown",
   "metadata": {},
   "source": [
    "# Provide one or two visualizations that show the distribution of the sample data. Write one or two sentences noting what you observe about the plot or plots."
   ]
  },
  {
   "cell_type": "code",
   "execution_count": 78,
   "metadata": {
    "collapsed": false
   },
   "outputs": [
    {
     "data": {
      "text/plain": [
       "(array([7, 9, 5, 1, 0, 2]),\n",
       " array([ 15.687     ,  18.94833333,  22.20966667,  25.471     ,\n",
       "         28.73233333,  31.99366667,  35.255     ]))"
      ]
     },
     "execution_count": 78,
     "metadata": {},
     "output_type": "execute_result"
    }
   ],
   "source": [
    "np.histogram(stroopdata['Congruent'],bins=6)\n",
    "np.histogram(stroopdata['Incongruent'],bins=6)"
   ]
  },
  {
   "cell_type": "code",
   "execution_count": 85,
   "metadata": {
    "collapsed": false
   },
   "outputs": [
    {
     "name": "stdout",
     "output_type": "stream",
     "text": [
      "Populating the interactive namespace from numpy and matplotlib\n"
     ]
    }
   ],
   "source": [
    "import numpy as np\n",
    "import matplotlib.pyplot as plt\n",
    "\n",
    "%pylab inline\n",
    "pylab.rcParams['figure.figsize'] = (8.0, 7.0)\n",
    "\n",
    "x = stroopdata['Congruent']\n",
    "numBins = 6\n",
    "ax.hist(x,numBins,color='green',alpha=0.8)\n",
    "plt.show()"
   ]
  },
  {
   "cell_type": "code",
   "execution_count": 84,
   "metadata": {
    "collapsed": false
   },
   "outputs": [
    {
     "data": {
      "text/plain": [
       "pandas.core.series.Series"
      ]
     },
     "execution_count": 84,
     "metadata": {},
     "output_type": "execute_result"
    }
   ],
   "source": [
    "type(x)"
   ]
  },
  {
   "cell_type": "code",
   "execution_count": 93,
   "metadata": {
    "collapsed": false
   },
   "outputs": [
    {
     "data": {
      "image/png": "[encoded data removed]",
      "text/plain": [
       "<matplotlib.figure.Figure at 0x7f34e177a588>"
      ]
     },
     "metadata": {},
     "output_type": "display_data"
    }
   ],
   "source": [
    "import numpy as np\n",
    "import matplotlib.pyplot as plt\n",
    "\n",
    "fig = plt.figure()\n",
    "ax = fig.add_subplot(111)\n",
    "\n",
    "#x = np.random.normal(0,1,1000)\n",
    "x = stroopdata['Congruent']\n",
    "numBins = 10\n",
    "ax.hist(x,numBins,color='b',alpha=0.8)\n",
    "plt.show()"
   ]
  },
  {
   "cell_type": "code",
   "execution_count": 108,
   "metadata": {
    "collapsed": false,
    "scrolled": true
   },
   "outputs": [
    {
     "data": {
      "image/png": "[encoded data removed]",
      "text/plain": [
       "<matplotlib.figure.Figure at 0x7f34e0fe2710>"
      ]
     },
     "metadata": {},
     "output_type": "display_data"
    }
   ],
   "source": [
    "import numpy as np\n",
    "import matplotlib.pyplot as plt\n",
    "\n",
    "fig = plt.figure()\n",
    "ax = fig.add_subplot(111)\n",
    "\n",
    "#x = np.random.normal(0,1,1000)\n",
    "x = stroopdata['Incongruent']\n",
    "\n",
    "histICS = ax.hist(x,\n",
    "        bins = 6,\n",
    "        color='b',\n",
    "        alpha=0.8,\n",
    "        label='Histogram of ICS Sample'\n",
    "       )\n",
    "\n",
    "# add some text for labels, title, pretty legend, axes ticks\n",
    "plt.xlabel('Time (s)')\n",
    "plt.ylabel('# of Subjects in bin')\n",
    "plt.title('Scores for CCS and ICS')\n",
    "\n",
    "leg = plt.legend(loc=2,fancybox=True, fontsize=14)\n",
    "leg.get_frame().set_alpha(0.5)\n",
    "\n",
    "xind = []\n",
    "plt.xticks( histICS[1], histICS[1], rotation=17)\n",
    "\n",
    "plt.show()\n"
   ]
  },
  {
   "cell_type": "code",
   "execution_count": 106,
   "metadata": {
    "collapsed": false
   },
   "outputs": [
    {
     "data": {
      "text/plain": [
       "array([ 15.687     ,  18.94833333,  22.20966667,  25.471     ,\n",
       "        28.73233333,  31.99366667,  35.255     ])"
      ]
     },
     "execution_count": 106,
     "metadata": {},
     "output_type": "execute_result"
    }
   ],
   "source": [
    "histICS[1]"
   ]
  },
  {
   "cell_type": "code",
   "execution_count": 81,
   "metadata": {
    "collapsed": false
   },
   "outputs": [
    {
     "data": {
      "text/plain": [
       "numpy.ndarray"
      ]
     },
     "execution_count": 81,
     "metadata": {},
     "output_type": "execute_result"
    }
   ],
   "source": [
    "type(x)"
   ]
  },
  {
   "cell_type": "code",
   "execution_count": 72,
   "metadata": {
    "collapsed": false,
    "scrolled": true
   },
   "outputs": [
    {
     "name": "stdout",
     "output_type": "stream",
     "text": [
      "Populating the interactive namespace from numpy and matplotlib\n"
     ]
    },
    {
     "data": {
      "image/png": "[encoded data removed]",
      "text/plain": [
       "<matplotlib.figure.Figure at 0x7f34e1358eb8>"
      ]
     },
     "metadata": {},
     "output_type": "display_data"
    }
   ],
   "source": [
    "import numpy as np\n",
    "import matplotlib.pyplot as plt\n",
    "\n",
    "%pylab inline\n",
    "pylab.rcParams['figure.figsize'] = (8.0, 7.0)\n",
    "\n",
    "fig = plt.subplots(figsize=(6.0, 4.5), dpi=100)\n",
    "\n",
    "#fig, ax = plt.subplots()\n",
    "bar_width = 0.35\n",
    "opacity = 0.6\n",
    "\n",
    "index = list(range(0,stroopdata.count()[0]))\n",
    "rects1 = plt.bar(index, stroopdata.sort_values(by='Congruent')['Congruent'], \n",
    "                 bar_width,\n",
    "                 alpha=opacity,\n",
    "                 color='k',\n",
    "                 label='CCS Sample')\n",
    "\n",
    "index = [ i + bar_width for i in index]\n",
    "rects2 = plt.bar(index, stroopdata.sort_values(by='Congruent')['Incongruent'], \n",
    "                 bar_width,\n",
    "                 alpha=opacity,\n",
    "                 color='b',\n",
    "                 label='ICS Sample')\n",
    "\n",
    "plt.axhline(y = stroopdata.mean()[0], \n",
    "            xmin=-1, \n",
    "            xmax = 24, \n",
    "            linewidth=2, \n",
    "            color='k',\n",
    "            ls = 'dotted',\n",
    "            label='Average for CCS Sample')\n",
    "\n",
    "plt.axhline(y = stroopdata.median()[0], \n",
    "            xmin=-1, \n",
    "            xmax = 24, \n",
    "            linewidth=2, \n",
    "            color='r',\n",
    "            ls = 'dashed',\n",
    "            label='Median for CCS Sample')\n",
    "\n",
    "# add some text for labels, title, pretty legend, axes ticks\n",
    "plt.xlabel('Subject #')\n",
    "plt.ylabel('Time (s)')\n",
    "plt.title('Scores for CCS and ICS')\n",
    "\n",
    "leg = plt.legend(loc=2,fancybox=True, fontsize=14)\n",
    "leg.get_frame().set_alpha(0.5)\n",
    "\n",
    "ccs_sort = stroopdata.sort_values(by='Congruent')\n",
    "xloc = list(range(1,ccs_sort.count()[0] +1 ))\n",
    "xloc = [ i + bar_width - 1 for i in xloc]\n",
    "xind = [ i + 1 for i in ccs_sort.index ]\n",
    "ymin_graph = int(ceil(stroopdata.min()[0])) - 1\n",
    "ymax_graph = int(ceil(stroopdata.max()[1])) + 1\n",
    "#yind = list(range(ymin_graph, ymax_graph + 1,2))\n",
    "yind = list(range(0, ymax_graph + 1,2))\n",
    "\n",
    "#plt.ylim(ymin_graph, ymax_graph)\n",
    "plt.ylim(0, ymax_graph)\n",
    "plt.xticks( xloc, xind)\n",
    "plt.yticks( yind, yind)\n",
    "\n",
    "plt.tight_layout()\n",
    "plt.savefig('bar_graph.pdf')"
   ]
  },
  {
   "cell_type": "code",
   "execution_count": null,
   "metadata": {
    "collapsed": true
   },
   "outputs": [],
   "source": []
  },
  {
   "cell_type": "markdown",
   "metadata": {},
   "source": [
    "The bar graph above shows graphically that each subject took more time on the ICS word list than on the CCS word list."
   ]
  },
  {
   "cell_type": "markdown",
   "metadata": {},
   "source": [
    "# Now, perform the statistical test and report your results. What is your confidence level and your critical statistic value? Do you reject the null hypothesis or fail to reject it? Come to a conclusion in terms of the experiment task. Did the results match up with your expectations?"
   ]
  },
  {
   "cell_type": "markdown",
   "metadata": {},
   "source": [
    "# What do you think is responsible for the effects observed? Can you think of an alternative or similar task that would result in a similar effect? Some research about the problem will be helpful for thinking about these two questions!"
   ]
  },
  {
   "cell_type": "markdown",
   "metadata": {},
   "source": [
    "#### Refrences:"
   ]
  },
  {
   "cell_type": "markdown",
   "metadata": {},
   "source": [
    "http://pandas.pydata.org/pandas-docs/stable/io.html#io-read-csv-table # link for reading in CSV file\n",
    "\n",
    "https://docs.google.com/document/d/1-OkpZLjG_kX9J6LIQ5IltsqMzVWjh36QpnP2RYpVdPU/pub # Udacity official document on general instructions for further projects as well as specifically for the Stroop Effect, P1.\n",
    "\n",
    "https://docs.google.com/document/d/1bqyi1Fm5truesLhmbAq16Zl-Ajj9bnNIU_68P60nDQg/pub # Udacity official documentation outlining what is expected to satisfactorily complete a project\n",
    "\n",
    "http://matplotlib.org/examples/api/barchart_demo.html # The bar graph example was used as a basis for the bar graph in this report.\n",
    "\n",
    "http://matplotlib.org/api/colors_api.html # understanding colors in matplotlib"
   ]
  },
  {
   "cell_type": "code",
   "execution_count": null,
   "metadata": {
    "collapsed": false
   },
   "outputs": [],
   "source": [
    "%%bash\n",
    "ipython3 nbconvert --template udacity.tplx  --to latex \"Stroop Effect.ipynb\"\n",
    "pdflatex \"Stroop Effect\"\n",
    "bibtex \"Stroop Effect\"\n",
    "pdflatex \"Stroop Effect\""
   ]
  },
  {
   "cell_type": "code",
   "execution_count": null,
   "metadata": {
    "collapsed": false
   },
   "outputs": [],
   "source": [
    "%ls"
   ]
  },
  {
   "cell_type": "code",
   "execution_count": null,
   "metadata": {
    "collapsed": false
   },
   "outputs": [],
   "source": [
    "#from notebook.nbextensions import install_nbextension\n",
    "#install_nbextension('https://goo.gl/5TK96v', user=True, destination=\"vim_binding.js\")\n",
    "# Or if you prefre a full URL\n",
    "#install_nbextension('https://rawgithub.com/lambdalisue/jupyter-vim-binding/master/nbextensions/vim_binding.js', user=True)\n",
    "#Jupyter.utils.load_extensions('vim_binding')"
   ]
  },
  {
   "cell_type": "code",
   "execution_count": null,
   "metadata": {
    "collapsed": false
   },
   "outputs": [],
   "source": [
    "%%javascript\n",
    "require(['base/js/utils'],\n",
    "function(utils) {\n",
    "   utils.load_extensions('calico-spell-check', 'calico-document-tools', 'calico-cell-tools');\n",
    "});"
   ]
  },
  {
   "cell_type": "markdown",
   "metadata": {},
   "source": [
    "<!--bibtex\n",
    "\n",
    "@Article{Udacity2015,\n",
    "  Author    = {Udacity, Udacity},\n",
    "  Title     = {Statistics: The Science of Decisions - Project Instructions},\n",
    "  year      = 2015,\n",
    "  url       = \"https://docs.google.com/document/d/1-OkpZLjG_kX9J6LIQ5IltsqMzVWjh36QpnP2RYpVdPU/pub\",\n",
    "  publisher = {Udacity},\n",
    "}\n",
    "\n",
    "@online{WinNT,\n",
    "  author = {MultiMedia LLC},\n",
    "  title = {{MS Windows NT} Kernel Description},\n",
    "  year = 1999,\n",
    "  url = {http://web.archive.org/web/20080207010024/http://www.808multimedia.com/winnt/kernel.htm},\n",
    "  urldate = {2010-09-30}\n",
    "}\n",
    "\n",
    "@Article{PER-GRA:2007,\n",
    "  Author    = {P\\'erez, Fernando and Granger, Brian E.},\n",
    "  Title     = {{IP}ython: a System for Interactive Scientific Computing},\n",
    "  Journal   = {Computing in Science and Engineering},\n",
    "  Volume    = {9},\n",
    "  Number    = {3},\n",
    "  Pages     = {21--29},\n",
    "  month     = may,\n",
    "  year      = 2007,\n",
    "  url       = \"http://ipython.org\",\n",
    "  ISSN      = \"1521-9615\",\n",
    "  doi       = {10.1109/MCSE.2007.53},\n",
    "  publisher = {IEEE Computer Society},\n",
    "}\n",
    "\n",
    "@article{Papa2007,\n",
    "  author = {Papa, David A. and Markov, Igor L.},\n",
    "  journal = {Approximation algorithms and metaheuristics},\n",
    "  pages = {1--38},\n",
    "  title = {{Hypergraph partitioning and clustering}},\n",
    "  url = {http://www.podload.org/pubs/book/part\\_survey.pdf},\n",
    "  year = {2007}\n",
    "}\n",
    "\n",
    "-->\n",
    "\n",
    "Examples of citations: <a name=\"ref-2\"/>[(P&eacute;rez and Granger, 2007)](#cite-PER-GRA:2007) or <a name=\"ref-3\"/>[(Papa and Markov, 2007)](#cite-Papa2007) <a name=\"ref-4\"/>[(Udacity, 2015)](#cite-Udacity2015) <a name=\"ref-5\"/>[(, 1999)](#cite-WinNT)."
   ]
  },
  {
   "cell_type": "code",
   "execution_count": null,
   "metadata": {
    "collapsed": true
   },
   "outputs": [],
   "source": []
  },
  {
   "cell_type": "markdown",
   "metadata": {},
   "source": [
    "# References\n",
    "\n",
    "<a name=\"cite-PER-GRA:2007\"/><sup>[^](#ref-2) </sup>P&eacute;rez, Fernando and Granger, Brian E.. 2007. _IPython: a System for Interactive Scientific Computing_. [URL](http://ipython.org)\n",
    "\n",
    "<a name=\"cite-Papa2007\"/><sup>[^](#ref-3) </sup>Papa, David A. and Markov, Igor L.. 2007. _Hypergraph partitioning and clustering_. [URL](http://www.podload.org/pubs/book/part\\_survey.pdf)\n",
    "\n",
    "<a name=\"cite-Udacity2015\"/><sup>[^](#ref-4) </sup>Udacity, Udacity. 2015. _Statistics: The Science of Decisions - Project Instructions_. [URL](https://docs.google.com/document/d/1-OkpZLjG_kX9J6LIQ5IltsqMzVWjh36QpnP2RYpVdPU/pub)\n",
    "\n",
    "<a name=\"cite-WinNT\"/><sup>[^](#ref-5) </sup>MultiMedia LLC. 1999. _MS Windows NT Kernel Description_. [URL](http://web.archive.org/web/20080207010024/http://www.808multimedia.com/winnt/kernel.htm)\n",
    "\n"
   ]
  }
 ],
 "metadata": {
  "kernelspec": {
   "display_name": "Python 3",
   "language": "python",
   "name": "python3"
  },
  "language_info": {
   "codemirror_mode": {
    "name": "ipython",
    "version": 3
   },
   "file_extension": ".py",
   "mimetype": "text/x-python",
   "name": "python",
   "nbconvert_exporter": "python",
   "pygments_lexer": "ipython3",
   "version": "3.4.3+"
  }
 },
 "nbformat": 4,
 "nbformat_minor": 0
}
